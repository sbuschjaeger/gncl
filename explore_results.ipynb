{
 "metadata": {
  "language_info": {
   "codemirror_mode": {
    "name": "ipython",
    "version": 3
   },
   "file_extension": ".py",
   "mimetype": "text/x-python",
   "name": "python",
   "nbconvert_exporter": "python",
   "pygments_lexer": "ipython3",
   "version": "3.7.9-final"
  },
  "orig_nbformat": 2,
  "kernelspec": {
   "name": "python37964bitgnclcondabf340b1ec9474aeaab4248424d5dafd4",
   "display_name": "Python 3.7.9 64-bit ('gncl': conda)",
   "language": "python"
  }
 },
 "nbformat": 4,
 "nbformat_minor": 2,
 "cells": [
  {
   "cell_type": "code",
   "execution_count": 7,
   "metadata": {
    "tags": []
   },
   "outputs": [
    {
     "output_type": "stream",
     "name": "stdout",
     "text": [
      "['CIFAR100/21-12-2020-15:26:45', 'CIFAR100/16-12-2020-11:29:51', 'CIFAR100/16-12-2020-11:28:22']\nIndex(['base_estimator', 'device', 'eval_every', 'experiment_id',\n       'loss_function', 'model', 'out_path', 'store_every', 'test_data',\n       'train_data', 'use_amp', 'verbose', 'loader.batch_size',\n       'loader.num_workers', 'loader.pin_memory', 'optimizer.betas',\n       'optimizer.epochs', 'optimizer.eps', 'optimizer.lr', 'optimizer.method',\n       'scheduler.gamma', 'scheduler.method', 'scheduler.step_size',\n       'scores.fit_time', 'scores.mean_fit_time', 'scores.mean_params',\n       'scores.mean_test_accuracy', 'scores.mean_test_avg_accurcay',\n       'scores.mean_test_avg_loss', 'scores.mean_test_diversity',\n       'scores.mean_test_loss', 'scores.mean_train_accuracy',\n       'scores.mean_train_avg_accurcay', 'scores.mean_train_avg_loss',\n       'scores.mean_train_diversity', 'scores.mean_train_loss',\n       'scores.params', 'scores.std_fit_time', 'scores.std_params',\n       'scores.std_test_accuracy', 'scores.std_test_avg_accurcay',\n       'scores.std_test_avg_loss', 'scores.std_test_diversity',\n       'scores.std_test_loss', 'scores.std_train_accuracy',\n       'scores.std_train_avg_accurcay', 'scores.std_train_avg_loss',\n       'scores.std_train_diversity', 'scores.std_train_loss',\n       'scores.test_accuracy', 'scores.test_avg_accurcay',\n       'scores.test_avg_loss', 'scores.test_diversity', 'scores.test_loss',\n       'scores.train_accuracy', 'scores.train_avg_accurcay',\n       'scores.train_avg_loss', 'scores.train_diversity', 'scores.train_loss',\n       'classifier', 'n_estimators', 'train_method', 'list_of_snapshots',\n       'combination_type', 'l_reg', 'mode'],\n      dtype='object')\n52 experiments done\n"
     ]
    },
    {
     "output_type": "execute_result",
     "data": {
      "text/plain": [
       "  \n",
       "34  /home/buschjae/projects/gncl/CIFAR100/16-12-20...            0   \n",
       "35  /home/buschjae/projects/gncl/CIFAR100/16-12-20...            0   \n",
       "36  /home/buschjae/projects/gncl/CIFAR100/16-12-20...            0   \n",
       "37  /home/buschjae/projects/gncl/CIFAR100/16-12-20...            0   \n",
       "38  /home/buschjae/projects/gncl/CIFAR100/16-12-20...            0   \n",
       "39  /home/buschjae/projects/gncl/CIFAR100/16-12-20...            0   \n",
       "40  /home/buschjae/projects/gncl/CIFAR100/16-12-20...            0   \n",
       "41  /home/buschjae/projects/gncl/CIFAR100/16-12-20...            0   \n",
       "42  /home/buschjae/projects/gncl/CIFAR100/16-12-20...            0   \n",
       "43  /home/buschjae/projects/gncl/CIFAR100/16-12-20...            0   \n",
       "44  /home/buschjae/projects/gncl/CIFAR100/16-12-20...            0   \n",
       "45  /home/buschjae/projects/gncl/CIFAR100/16-12-20...            0   \n",
       "46  /home/buschjae/projects/gncl/CIFAR100/16-12-20...            0   \n",
       "47  /home/buschjae/projects/gncl/CIFAR100/16-12-20...            0   \n",
       "48  /home/buschjae/projects/gncl/CIFAR100/16-12-20...            0   \n",
       "49  /home/buschjae/projects/gncl/CIFAR100/16-12-20...            0   \n",
       "50  /home/buschjae/projects/gncl/CIFAR100/16-12-20...            0   \n",
       "51  /home/buschjae/projects/gncl/CIFAR100/16-12-20...            0   \n",
       "\n",
       "                                            test_data  \\\n",
       "0   Dataset CIFAR100\\n    Number of datapoints: 10...   \n",
       "1   Dataset CIFAR100\\n    Number of datapoints: 10...   \n",
       "2   Dataset CIFAR100\\n    Number of datapoints: 10...   \n",
       "3   Dataset CIFAR100\\n    Number of datapoints: 10...   \n",
       "4   Dataset CIFAR100\\n    Number of datapoints: 10...   \n",
       "5   Dataset CIFAR100\\n    Number of datapoints: 10...   \n",
       "6   Dataset CIFAR100\\n    Number of datapoints: 10...   \n",
       "7   Dataset CIFAR100\\n    Number of datapoints: 10...   \n",
       "8   Dataset CIFAR100\\n    Number of datapoints: 10...   \n",
       "9   Dataset CIFAR100\\n    Number of datapoints: 10...   \n",
       "10  Dataset CIFAR100\\n    Number of datapoints: 10...   \n",
       "11  Dataset CIFAR100\\n    Number of datapoints: 10...   \n",
       "12  Dataset CIFAR100\\n    Number of datapoints: 10...   \n",
       "13  Dataset CIFAR100\\n    Number of datapoints: 10...   \n",
       "14  Dataset CIFAR100\\n    Number of datapoints: 10...   \n",
       "15  Dataset CIFAR100\\n    Number of datapoints: 10...   \n",
       "16  Dataset CIFAR100\\n    Number of datapoints: 10...   \n",
       "17  Dataset CIFAR100\\n    Number of datapoints: 10...   \n",
       "18  Dataset CIFAR100\\n    Number of datapoints: 10...   \n",
       "19  Dataset CIFAR100\\n    Number of datapoints: 10...   \n",
       "20  Dataset CIFAR100\\n    Number of datapoints: 10...   \n",
       "21  Dataset CIFAR100\\n    Number of datapoints: 10...   \n",
       "22  Dataset CIFAR100\\n    Number of datapoints: 10...   \n",
       "23  Dataset CIFAR100\\n    Number of datapoints: 10...   \n",
       "24  Dataset CIFAR100\\n    Number of datapoints: 10...   \n",
       "25  Dataset CIFAR100\\n    Number of datapoints: 10...   \n",
       "26  Dataset CIFAR100\\n    Number of datapoints: 10...   \n",
       "27  Dataset CIFAR100\\n    Number of datapoints: 10...   \n",
       "28  Dataset CIFAR100\\n    Number of datapoints: 10...   \n",
       "29  Dataset CIFAR100\\n    Number of datapoints: 10...   \n",
       "30  Dataset CIFAR100\\n    Number of datapoints: 10...   \n",
       "31  Dataset CIFAR100\\n    Number of datapoints: 10...   \n",
       "32  Dataset CIFAR100\\n    Number of datapoints: 10...   \n",
       "33  Dataset CIFAR100\\n    Number of datapoints: 10...   \n",
       "34  Dataset CIFAR100\\n    Number of datapoints: 10...   \n",
       "35  Dataset CIFAR100\\n    Number of datapoints: 10...   \n",
       "36  Dataset CIFAR100\\n    Number of datapoints: 10...   \n",
       "37  Dataset CIFAR100\\n    Number of datapoints: 10...   \n",
       "38  Dataset CIFAR100\\n    Number of datapoints: 10...   \n",
       "39  Dataset CIFAR100\\n    Number of datapoints: 10...   \n",
       "40  Dataset CIFAR100\\n    Number of datapoints: 10...   \n",
       "41  Dataset CIFAR100\\n    Number of datapoints: 10...   \n",
       "42  Dataset CIFAR100\\n    Number of datapoints: 10...   \n",
       "43  Dataset CIFAR100\\n    Number of datapoints: 10...   \n",
       "44  Dataset CIFAR100\\n    Number of datapoints: 10...   \n",
       "45  Dataset CIFAR100\\n    Number of datapoints: 10...   \n",
       "46  Dataset CIFAR100\\n    Number of datapoints: 10...   \n",
       "47  Dataset CIFAR100\\n    Number of datapoints: 10...   \n",
       "48  Dataset CIFAR100\\n    Number of datapoints: 10...   \n",
       "49  Dataset CIFAR100\\n    Number of datapoints: 10...   \n",
       "50  Dataset CIFAR100\\n    Number of datapoints: 10...   \n",
       "51  Dataset CIFAR100\\n    Number of datapoints: 10...   \n",
       "\n",
       "                                           train_data  ...  \\\n",
       "0   Dataset CIFAR100\\n    Number of datapoints: 50...  ...   \n",
       "1   Dataset CIFAR100\\n    Number of datapoints: 50...  ...   \n",
       "2   Dataset CIFAR100\\n    Number of datapoints: 50...  ...   \n",
       "3   Dataset CIFAR100\\n    Number of datapoints: 50...  ...   \n",
       "4   Dataset CIFAR100\\n    Number of datapoints: 50...  ...   \n",
       "5   Dataset CIFAR100\\n    Number of datapoints: 50...  ...   \n",
       "6   Dataset CIFAR100\\n    Number of datapoints: 50...  ...   \n",
       "7   Dataset CIFAR100\\n    Number of datapoints: 50...  ...   \n",
       "8   Dataset CIFAR100\\n    Number of datapoints: 50...  ...   \n",
       "9   Dataset CIFAR100\\n    Number of datapoints: 50...  ...   \n",
       "10  Dataset CIFAR100\\n    Number of datapoints: 50...  ...   \n",
       "11  Dataset CIFAR100\\n    Number of datapoints: 50...  ...   \n",
       "12  Dataset CIFAR100\\n    Number of datapoints: 50...  ...   \n",
       "13  Dataset CIFAR100\\n    Number of datapoints: 50...  ...   \n",
       "14  Dataset CIFAR100\\n    Number of datapoints: 50...  ...   \n",
       "15  Dataset CIFAR100\\n    Number of datapoints: 50...  ...   \n",
       "16  Dataset CIFAR100\\n    Number of datapoints: 50...  ...   \n",
       "17  Dataset CIFAR100\\n    Number of datapoints: 50...  ...   \n",
       "18  Dataset CIFAR100\\n    Number of datapoints: 50...  ...   \n",
       "19  Dataset CIFAR100\\n    Number of datapoints: 50...  ...   \n",
       "20  Dataset CIFAR100\\n    Number of datapoints: 50...  ...   \n",
       "21  Dataset CIFAR100\\n    Number of datapoints: 50...  ...   \n",
       "22  Dataset CIFAR100\\n    Number of datapoints: 50...  ...   \n",
       "23  Dataset CIFAR100\\n    Number of datapoints: 50...  ...   \n",
       "24  Dataset CIFAR100\\n    Number of datapoints: 50...  ...   \n",
       "25  Dataset CIFAR100\\n    Number of datapoints: 50...  ...   \n",
       "26  Dataset CIFAR100\\n    Number of datapoints: 50...  ...   \n",
       "27  Dataset CIFAR100\\n    Number of datapoints: 50...  ...   \n",
       "28  Dataset CIFAR100\\n    Number of datapoints: 50...  ...   \n",
       "29  Dataset CIFAR100\\n    Number of datapoints: 50...  ...   \n",
       "30  Dataset CIFAR100\\n    Number of datapoints: 50...  ...   \n",
       "31  Dataset CIFAR100\\n    Number of datapoints: 50...  ...   \n",
       "32  Dataset CIFAR100\\n    Number of datapoints: 50...  ...   \n",
       "33  Dataset CIFAR100\\n    Number of datapoints: 50...  ...   \n",
       "34  Dataset CIFAR100\\n    Number of datapoints: 50...  ...   \n",
       "35  Dataset CIFAR100\\n    Number of datapoints: 50...  ...   \n",
       "36  Dataset CIFAR100\\n    Number of datapoints: 50...  ...   \n",
       "37  Dataset CIFAR100\\n    Number of datapoints: 50...  ...   \n",
       "38  Dataset CIFAR100\\n    Number of datapoints: 50...  ...   \n",
       "39  Dataset CIFAR100\\n    Number of datapoints: 50...  ...   \n",
       "40  Dataset CIFAR100\\n    Number of datapoints: 50...  ...   \n",
       "41  Dataset CIFAR100\\n    Number of datapoints: 50...  ...   \n",
       "42  Dataset CIFAR100\\n    Number of datapoints: 50...  ...   \n",
       "43  Dataset CIFAR100\\n    Number of datapoints: 50...  ...   \n",
       "44  Dataset CIFAR100\\n    Number of datapoints: 50...  ...   \n",
       "45  Dataset CIFAR100\\n    Number of datapoints: 50...  ...   \n",
       "46  Dataset CIFAR100\\n    Number of datapoints: 50...  ...   \n",
       "47  Dataset CIFAR100\\n    Number of datapoints: 50...  ...   \n",
       "48  Dataset CIFAR100\\n    Number of datapoints: 50...  ...   \n",
       "49  Dataset CIFAR100\\n    Number of datapoints: 50...  ...   \n",
       "50  Dataset CIFAR100\\n    Number of datapoints: 50...  ...   \n",
       "51  Dataset CIFAR100\\n    Number of datapoints: 50...  ...   \n",
       "\n",
       "                                      classifier  n_estimators  train_method  \\\n",
       "0                                            NaN           NaN           NaN   \n",
       "1    stacking_classifier_{'model_type': 'float'}          16.0           NaN   \n",
       "2                                            NaN          16.0          fast   \n",
       "3                                            NaN          16.0           NaN   \n",
       "4                                            NaN          16.0           NaN   \n",
       "5                                            NaN          16.0           NaN   \n",
       "6                                            NaN          16.0           NaN   \n",
       "7                                            NaN          16.0           NaN   \n",
       "8                                            NaN          16.0           NaN   \n",
       "9                                            NaN          16.0           NaN   \n",
       "10                                           NaN          16.0           NaN   \n",
       "11                                           NaN          16.0           NaN   \n",
       "12                                           NaN          16.0           NaN   \n",
       "13                                           NaN          16.0           NaN   \n",
       "14                                           NaN          16.0           NaN   \n",
       "15                                           NaN          16.0           NaN   \n",
       "16                                           NaN          16.0           NaN   \n",
       "17                                           NaN           NaN           NaN   \n",
       "18   stacking_classifier_{'model_type': 'float'}          16.0           NaN   \n",
       "19                                           NaN          16.0          fast   \n",
       "20                                           NaN          16.0           NaN   \n",
       "21                                           NaN          16.0           NaN   \n",
       "22                                           NaN          16.0           NaN   \n",
       "23                                           NaN          16.0           NaN   \n",
       "24                                           NaN          16.0           NaN   \n",
       "25                                           NaN          16.0           NaN   \n",
       "26                                           NaN          16.0           NaN   \n",
       "27                                           NaN          16.0           NaN   \n",
       "28                                           NaN          16.0           NaN   \n",
       "29                                           NaN          16.0           NaN   \n",
       "30                                           NaN          16.0           NaN   \n",
       "31                                           NaN          16.0           NaN   \n",
       "32                                           NaN          16.0           NaN   \n",
       "33                                           NaN          16.0           NaN   \n",
       "34                                           NaN           NaN           NaN   \n",
       "35  stacking_classifier_{'model_type': 'binary'}          16.0           NaN   \n",
       "36                                           NaN          16.0          fast   \n",
       "37                                           NaN          16.0           NaN   \n",
       "38                                           NaN          16.0           NaN   \n",
       "39                                           NaN          16.0           NaN   \n",
       "40                                           NaN          16.0           NaN   \n",
       "41                                           NaN          16.0           NaN   \n",
       "42                                           NaN          16.0           NaN   \n",
       "43                                           NaN          16.0           NaN   \n",
       "44                                           NaN          16.0           NaN   \n",
       "45                                           NaN          16.0           NaN   \n",
       "46                                           NaN          16.0           NaN   \n",
       "47                                           NaN          16.0           NaN   \n",
       "48                                           NaN          16.0           NaN   \n",
       "49                                           NaN          16.0           NaN   \n",
       "50                                           NaN          16.0           NaN   \n",
       "51                                           NaN           NaN           NaN   \n",
       "\n",
       "                                    list_of_snapshots  combination_type l_reg  \\\n",
       "0                                                 NaN               NaN   NaN   \n",
       "1                                                 NaN               NaN   NaN   \n",
       "2                                                 NaN               NaN   NaN   \n",
       "3                                                 NaN               NaN   NaN   \n",
       "4   [2, 3, 4, 5, 10, 15, 20, 25, 30, 40, 50, 60, 7...               NaN   NaN   \n",
       "5                                                 NaN               NaN   NaN   \n",
       "6                                                 NaN              best   NaN   \n",
       "7                                                 NaN           average   0.0   \n",
       "8                                                 NaN           average   0.1   \n",
       "9                                                 NaN           average   0.2   \n",
       "10                                                NaN           average   0.3   \n",
       "11                                                NaN           average   0.4   \n",
       "12                                                NaN           average   0.5   \n",
       "13                                                NaN           average   0.6   \n",
       "14                                                NaN           average   0.7   \n",
       "15                                                NaN           average   0.8   \n",
       "16                                                NaN           average   0.9   \n",
       "17                                                NaN               NaN   NaN   \n",
       "18                                                NaN               NaN   NaN   \n",
       "19                                                NaN               NaN   NaN   \n",
       "20                                                NaN               NaN   NaN   \n",
       "21  [2, 3, 4, 5, 10, 15, 20, 25, 30, 40, 50, 60, 7...               NaN   NaN   \n",
       "22                                                NaN               NaN   NaN   \n",
       "23                                                NaN              best   NaN   \n",
       "24                                                NaN           average   0.0   \n",
       "25                                                NaN           average   0.1   \n",
       "26                                                NaN           average   0.2   \n",
       "27                                                NaN           average   0.3   \n",
       "28                                                NaN           average   0.4   \n",
       "29                                                NaN           average   0.5   \n",
       "30                                                NaN           average   0.6   \n",
       "31                                                NaN           average   0.7   \n",
       "32                                                NaN           average   0.8   \n",
       "33                                                NaN           average   0.9   \n",
       "34                                                NaN               NaN   NaN   \n",
       "35                                                NaN               NaN   NaN   \n",
       "36                                                NaN               NaN   NaN   \n",
       "37                                                NaN               NaN   NaN   \n",
       "38  [2, 3, 4, 5, 10, 15, 20, 25, 30, 40, 50, 60, 7...               NaN   NaN   \n",
       "39                                                NaN               NaN   NaN   \n",
       "40                                                NaN              best   NaN   \n",
       "41                                                NaN           average   0.0   \n",
       "42                                                NaN           average   0.1   \n",
       "43                                                NaN           average   0.2   \n",
       "44                                                NaN           average   0.3   \n",
       "45                                                NaN           average   0.4   \n",
       "46                                                NaN           average   0.5   \n",
       "47                                                NaN           average   0.6   \n",
       "48                                                NaN           average   0.7   \n",
       "49                                                NaN           average   0.8   \n",
       "50                                                NaN           average   0.9   \n",
       "51                                                NaN               NaN   NaN   \n",
       "\n",
       "     mode           nice_name                 model_type    complexity  \n",
       "0     NaN              Single   simpleresnet small float  8.810000e+04  \n",
       "1     NaN  StackingClassifier   simpleresnet small float  1.657800e+06  \n",
       "2     NaN             Bagging   simpleresnet small float  1.409600e+06  \n",
       "3     NaN                  GB   simpleresnet small float  1.409600e+06  \n",
       "4     NaN                  SE   simpleresnet small float  1.409600e+06  \n",
       "5     NaN                 E2E   simpleresnet small float  1.409600e+06  \n",
       "6     NaN                SMCL   simpleresnet small float  1.409600e+06  \n",
       "7   upper                Ind.   simpleresnet small float  1.409600e+06  \n",
       "8   upper        GNLC λ = 0.1   simpleresnet small float  1.409600e+06  \n",
       "9   upper        GNLC λ = 0.2   simpleresnet small float  1.409600e+06  \n",
       "10  upper        GNLC λ = 0.3   simpleresnet small float  1.409600e+06  \n",
       "11  upper        GNLC λ = 0.4   simpleresnet small float  1.409600e+06  \n",
       "12  upper        GNLC λ = 0.5   simpleresnet small float  1.409600e+06  \n",
       "13  upper        GNLC λ = 0.6   simpleresnet small float  1.409600e+06  \n",
       "14  upper        GNLC λ = 0.7   simpleresnet small float  1.409600e+06  \n",
       "15  upper        GNLC λ = 0.8   simpleresnet small float  1.409600e+06  \n",
       "16  upper        GNLC λ = 0.9   simpleresnet small float  1.409600e+06  \n",
       "17    NaN              Single   simpleresnet large float  7.064680e+05  \n",
       "18    NaN  StackingClassifier   simpleresnet large float  1.217006e+07  \n",
       "19    NaN             Bagging   simpleresnet large float  1.130349e+07  \n",
       "20    NaN                  GB   simpleresnet large float  1.130349e+07  \n",
       "21    NaN                  SE   simpleresnet large float  1.130349e+07  \n",
       "22    NaN                 E2E   simpleresnet large float  1.130349e+07  \n",
       "23    NaN                SMCL   simpleresnet large float  1.130349e+07  \n",
       "24  upper                Ind.   simpleresnet large float  1.130349e+07  \n",
       "25  upper        GNLC λ = 0.1   simpleresnet large float  1.130349e+07  \n",
       "26  upper        GNLC λ = 0.2   simpleresnet large float  1.130349e+07  \n",
       "27  upper        GNLC λ = 0.3   simpleresnet large float  1.130349e+07  \n",
       "28  upper        GNLC λ = 0.4   simpleresnet large float  1.130349e+07  \n",
       "29  upper        GNLC λ = 0.5   simpleresnet large float  1.130349e+07  \n",
       "30  upper        GNLC λ = 0.6   simpleresnet large float  1.130349e+07  \n",
       "31  upper        GNLC λ = 0.7   simpleresnet large float  1.130349e+07  \n",
       "32  upper        GNLC λ = 0.8   simpleresnet large float  1.130349e+07  \n",
       "33  upper        GNLC λ = 0.9   simpleresnet large float  1.130349e+07  \n",
       "34    NaN              Single  simpleresnet small binary  2.761156e+03  \n",
       "35    NaN  StackingClassifier  simpleresnet small binary  5.194281e+04  \n",
       "36    NaN             Bagging  simpleresnet small binary  4.417850e+04  \n",
       "37    NaN                  GB  simpleresnet small binary  4.417850e+04  \n",
       "38    NaN                  SE  simpleresnet small binary  4.417850e+04  \n",
       "39    NaN                 E2E  simpleresnet small binary  4.417850e+04  \n",
       "40    NaN                SMCL  simpleresnet small binary  4.417850e+04  \n",
       "41  upper                Ind.  simpleresnet small binary  4.417850e+04  \n",
       "42  upper        GNLC λ = 0.1  simpleresnet small binary  4.417850e+04  \n",
       "43  upper        GNLC λ = 0.2  simpleresnet small binary  4.417850e+04  \n",
       "44  upper        GNLC λ = 0.3  simpleresnet small binary  4.417850e+04  \n",
       "45  upper        GNLC λ = 0.4  simpleresnet small binary  4.417850e+04  \n",
       "46  upper        GNLC λ = 0.5  simpleresnet small binary  4.417850e+04  \n",
       "47  upper        GNLC λ = 0.6  simpleresnet small binary  4.417850e+04  \n",
       "48  upper        GNLC λ = 0.7  simpleresnet small binary  4.417850e+04  \n",
       "49  upper        GNLC λ = 0.8  simpleresnet small binary  4.417850e+04  \n",
       "50  upper        GNLC λ = 0.9  simpleresnet small binary  4.417850e+04  \n",
       "51    NaN              Single   simpleresnet small float  8.810000e+04  \n",
       "\n",
       "[52 rows x 69 columns]"
      ],
      "text/html": "<div>\n<style scoped>\n    .dataframe tbody tr th:only-of-type {\n        vertical-align: middle;\n    }\n\n    .dataframe tbody tr th {\n        vertical-align: top;\n    }\n\n    .dataframe thead th {\n        text-align: right;\n    }\n</style>\n<table border=\"1\" class=\"dataframe\">\n  <thead>\n    <tr style=\"text-align: right;\">\n      <th></th>\n      <th>base_estimator</th>\n      <th>device</th>\n      <th>eval_every</th>\n      <th>experiment_id</th>\n      <th>loss_function</th>\n      <th>model</th>\n      <th>out_path</th>\n      <th>store_every</th>\n      <th>test_data</th>\n      <th>train_data</th>\n      <th>...</th>\n      <th>classifier</th>\n      <th>n_estimators</th>\n      <th>train_method</th>\n      <th>list_of_snapshots</th>\n      <th>combination_type</th>\n      <th>l_reg</th>\n      <th>mode</th>\n      <th>nice_name</th>\n      <th>model_type</th>\n      <th>complexity</th>\n    </tr>\n  </thead>\n  <tbody>\n    <tr>\n      <th>0</th>\n      <td>simpleresnet_{'size': 'small', 'model_type': '...</td>\n      <td>cuda</td>\n      <td>5</td>\n      <td>0</td>\n      <td>CrossEntropyLoss()</td>\n      <td>Model</td>\n      <td>/home/buschjae/projects/gncl/CIFAR100/21-12-20...</td>\n      <td>0</td>\n      <td>Dataset CIFAR100\\n    Number of datapoints: 10...</td>\n      <td>Dataset CIFAR100\\n    Number of datapoints: 50...</td>\n      <td>...</td>\n      <td>NaN</td>\n      <td>NaN</td>\n      <td>NaN</td>\n      <td>NaN</td>\n      <td>NaN</td>\n      <td>NaN</td>\n      <td>NaN</td>\n      <td>Single</td>\n      <td>simpleresnet small float</td>\n      <td>8.810000e+04</td>\n    </tr>\n    <tr>\n      <th>1</th>\n      <td>simpleresnet_{'size': 'small', 'model_type': '...</td>\n      <td>cuda</td>\n      <td>5</td>\n      <td>1</td>\n      <td>CrossEntropyLoss()</td>\n      <td>StackingClassifier</td>\n      <td>/home/buschjae/projects/gncl/CIFAR100/21-12-20...</td>\n      <td>0</td>\n      <td>Dataset CIFAR100\\n    Number of datapoints: 10...</td>\n      <td>Dataset CIFAR100\\n    Number of datapoints: 50...</td>\n      <td>...</td>\n      <td>stacking_classifier_{'model_type': 'float'}</td>\n      <td>16.0</td>\n      <td>NaN</td>\n      <td>NaN</td>\n      <td>NaN</td>\n      <td>NaN</td>\n      <td>NaN</td>\n      <td>StackingClassifier</td>\n      <td>simpleresnet small float</td>\n      <td>1.657800e+06</td>\n    </tr>\n    <tr>\n      <th>2</th>\n      <td>simpleresnet_{'size': 'small', 'model_type': '...</td>\n      <td>cuda</td>\n      <td>5</td>\n      <td>2</td>\n      <td>CrossEntropyLoss()</td>\n      <td>BaggingClassifier</td>\n      <td>/home/buschjae/projects/gncl/CIFAR100/21-12-20...</td>\n      <td>0</td>\n      <td>Dataset CIFAR100\\n    Number of datapoints: 10...</td>\n      <td>Dataset CIFAR100\\n    Number of datapoints: 50...</td>\n      <td>...</td>\n      <td>NaN</td>\n      <td>16.0</td>\n      <td>fast</td>\n      <td>NaN</td>\n      <td>NaN</td>\n      <td>NaN</td>\n      <td>NaN</td>\n      <td>Bagging</td>\n      <td>simpleresnet small float</td>\n      <td>1.409600e+06</td>\n    </tr>\n    <tr>\n      <th>3</th>\n      <td>simpleresnet_{'size': 'small', 'model_type': '...</td>\n      <td>cuda</td>\n      <td>5</td>\n      <td>3</td>\n      <td>CrossEntropyLoss()</td>\n      <td>GradientBoostedNets</td>\n      <td>/home/buschjae/projects/gncl/CIFAR100/21-12-20...</td>\n      <td>0</td>\n      <td>Dataset CIFAR100\\n    Number of datapoints: 10...</td>\n      <td>Dataset CIFAR100\\n    Number of datapoints: 50...</td>\n      <td>...</td>\n      <td>NaN</td>\n      <td>16.0</td>\n      <td>NaN</td>\n      <td>NaN</td>\n      <td>NaN</td>\n      <td>NaN</td>\n      <td>NaN</td>\n      <td>GB</td>\n      <td>simpleresnet small float</td>\n      <td>1.409600e+06</td>\n    </tr>\n    <tr>\n      <th>4</th>\n      <td>simpleresnet_{'size': 'small', 'model_type': '...</td>\n      <td>cuda</td>\n      <td>5</td>\n      <td>4</td>\n      <td>CrossEntropyLoss()</td>\n      <td>SnapshotEnsembleClassifier</td>\n      <td>/home/buschjae/projects/gncl/CIFAR100/21-12-20...</td>\n      <td>0</td>\n      <td>Dataset CIFAR100\\n    Number of datapoints: 10...</td>\n      <td>Dataset CIFAR100\\n    Number of datapoints: 50...</td>\n      <td>...</td>\n      <td>NaN</td>\n      <td>16.0</td>\n      <td>NaN</td>\n      <td>[2, 3, 4, 5, 10, 15, 20, 25, 30, 40, 50, 60, 7...</td>\n      <td>NaN</td>\n      <td>NaN</td>\n      <td>NaN</td>\n      <td>SE</td>\n      <td>simpleresnet small float</td>\n      <td>1.409600e+06</td>\n    </tr>\n    <tr>\n      <th>5</th>\n      <td>simpleresnet_{'size': 'small', 'model_type': '...</td>\n      <td>cuda</td>\n      <td>5</td>\n      <td>5</td>\n      <td>CrossEntropyLoss()</td>\n      <td>E2EEnsembleClassifier</td>\n      <td>/home/buschjae/projects/gncl/CIFAR100/21-12-20...</td>\n      <td>0</td>\n      <td>Dataset CIFAR100\\n    Number of datapoints: 10...</td>\n      <td>Dataset CIFAR100\\n    Number of datapoints: 50...</td>\n      <td>...</td>\n      <td>NaN</td>\n      <td>16.0</td>\n      <td>NaN</td>\n      <td>NaN</td>\n      <td>NaN</td>\n      <td>NaN</td>\n      <td>NaN</td>\n      <td>E2E</td>\n      <td>simpleresnet small float</td>\n      <td>1.409600e+06</td>\n    </tr>\n    <tr>\n      <th>6</th>\n      <td>simpleresnet_{'size': 'small', 'model_type': '...</td>\n      <td>cuda</td>\n      <td>5</td>\n      <td>6</td>\n      <td>CrossEntropyLoss()</td>\n      <td>SMCLClassifier</td>\n      <td>/home/buschjae/projects/gncl/CIFAR100/21-12-20...</td>\n      <td>0</td>\n      <td>Dataset CIFAR100\\n    Number of datapoints: 10...</td>\n      <td>Dataset CIFAR100\\n    Number of datapoints: 50...</td>\n      <td>...</td>\n      <td>NaN</td>\n      <td>16.0</td>\n      <td>NaN</td>\n      <td>NaN</td>\n      <td>best</td>\n      <td>NaN</td>\n      <td>NaN</td>\n      <td>SMCL</td>\n      <td>simpleresnet small float</td>\n      <td>1.409600e+06</td>\n    </tr>\n    <tr>\n      <th>7</th>\n      <td>simpleresnet_{'size': 'small', 'model_type': '...</td>\n      <td>cuda</td>\n      <td>5</td>\n      <td>7</td>\n      <td>CrossEntropyLoss()</td>\n      <td>GNCLClassifier</td>\n      <td>/home/buschjae/projects/gncl/CIFAR100/21-12-20...</td>\n      <td>0</td>\n      <td>Dataset CIFAR100\\n    Number of datapoints: 10...</td>\n      <td>Dataset CIFAR100\\n    Number of datapoints: 50...</td>\n      <td>...</td>\n      <td>NaN</td>\n      <td>16.0</td>\n      <td>NaN</td>\n      <td>NaN</td>\n      <td>average</td>\n      <td>0.0</td>\n      <td>upper</td>\n      <td>Ind.</td>\n      <td>simpleresnet small float</td>\n      <td>1.409600e+06</td>\n    </tr>\n    <tr>\n      <th>8</th>\n      <td>simpleresnet_{'size': 'small', 'model_type': '...</td>\n      <td>cuda</td>\n      <td>5</td>\n      <td>8</td>\n      <td>CrossEntropyLoss()</td>\n      <td>GNCLClassifier</td>\n      <td>/home/buschjae/projects/gncl/CIFAR100/21-12-20...</td>\n      <td>0</td>\n      <td>Dataset CIFAR100\\n    Number of datapoints: 10...</td>\n      <td>Dataset CIFAR100\\n    Number of datapoints: 50...</td>\n      <td>...</td>\n      <td>NaN</td>\n      <td>16.0</td>\n      <td>NaN</td>\n      <td>NaN</td>\n      <td>average</td>\n      <td>0.1</td>\n      <td>upper</td>\n      <td>GNLC λ = 0.1</td>\n      <td>simpleresnet small float</td>\n      <td>1.409600e+06</td>\n    </tr>\n    <tr>\n      <th>9</th>\n      <td>simpleresnet_{'size': 'small', 'model_type': '...</td>\n      <td>cuda</td>\n      <td>5</td>\n      <td>9</td>\n      <td>CrossEntropyLoss()</td>\n      <td>GNCLClassifier</td>\n      <td>/home/buschjae/projects/gncl/CIFAR100/21-12-20...</td>\n      <td>0</td>\n      <td>Dataset CIFAR100\\n    Number of datapoints: 10...</td>\n      <td>Dataset CIFAR100\\n    Number of datapoints: 50...</td>\n      <td>...</td>\n      <td>NaN</td>\n      <td>16.0</td>\n      <td>NaN</td>\n      <td>NaN</td>\n      <td>average</td>\n      <td>0.2</td>\n      <td>upper</td>\n      <td>GNLC λ = 0.2</td>\n      <td>simpleresnet small float</td>\n      <td>1.409600e+06</td>\n    </tr>\n    <tr>\n      <th>10</th>\n      <td>simpleresnet_{'size': 'small', 'model_type': '...</td>\n      <td>cuda</td>\n      <td>5</td>\n      <td>10</td>\n      <td>CrossEntropyLoss()</td>\n      <td>GNCLClassifier</td>\n      <td>/home/buschjae/projects/gncl/CIFAR100/21-12-20...</td>\n      <td>0</td>\n      <td>Dataset CIFAR100\\n    Number of datapoints: 10...</td>\n      <td>Dataset CIFAR100\\n    Number of datapoints: 50...</td>\n      <td>...</td>\n      <td>NaN</td>\n      <td>16.0</td>\n      <td>NaN</td>\n      <td>NaN</td>\n      <td>average</td>\n      <td>0.3</td>\n      <td>upper</td>\n      <td>GNLC λ = 0.3</td>\n      <td>simpleresnet small float</td>\n      <td>1.409600e+06</td>\n    </tr>\n    <tr>\n      <th>11</th>\n      <td>simpleresnet_{'size': 'small', 'model_type': '...</td>\n      <td>cuda</td>\n      <td>5</td>\n      <td>11</td>\n      <td>CrossEntropyLoss()</td>\n      <td>GNCLClassifier</td>\n      <td>/home/buschjae/projects/gncl/CIFAR100/21-12-20...</td>\n      <td>0</td>\n      <td>Dataset CIFAR100\\n    Number of datapoints: 10...</td>\n      <td>Dataset CIFAR100\\n    Number of datapoints: 50...</td>\n      <td>...</td>\n      <td>NaN</td>\n      <td>16.0</td>\n      <td>NaN</td>\n      <td>NaN</td>\n      <td>average</td>\n      <td>0.4</td>\n      <td>upper</td>\n      <td>GNLC λ = 0.4</td>\n      <td>simpleresnet small float</td>\n      <td>1.409600e+06</td>\n    </tr>\n    <tr>\n      <th>12</th>\n      <td>simpleresnet_{'size': 'small', 'model_type': '...</td>\n      <td>cuda</td>\n      <td>5</td>\n      <td>12</td>\n      <td>CrossEntropyLoss()</td>\n      <td>GNCLClassifier</td>\n      <td>/home/buschjae/projects/gncl/CIFAR100/21-12-20...</td>\n      <td>0</td>\n      <td>Dataset CIFAR100\\n    Number of datapoints: 10...</td>\n      <td>Dataset CIFAR100\\n    Number of datapoints: 50...</td>\n      <td>...</td>\n      <td>NaN</td>\n      <td>16.0</td>\n      <td>NaN</td>\n      <td>NaN</td>\n      <td>average</td>\n      <td>0.5</td>\n      <td>upper</td>\n      <td>GNLC λ = 0.5</td>\n      <td>simpleresnet small float</td>\n      <td>1.409600e+06</td>\n    </tr>\n    <tr>\n      <th>13</th>\n      <td>simpleresnet_{'size': 'small', 'model_type': '...</td>\n      <td>cuda</td>\n      <td>5</td>\n      <td>13</td>\n      <td>CrossEntropyLoss()</td>\n      <td>GNCLClassifier</td>\n      <td>/home/buschjae/projects/gncl/CIFAR100/21-12-20...</td>\n      <td>0</td>\n      <td>Dataset CIFAR100\\n    Number of datapoints: 10...</td>\n      <td>Dataset CIFAR100\\n    Number of datapoints: 50...</td>\n      <td>...</td>\n      <td>NaN</td>\n      <td>16.0</td>\n      <td>NaN</td>\n      <td>NaN</td>\n      <td>average</td>\n      <td>0.6</td>\n      <td>upper</td>\n      <td>GNLC λ = 0.6</td>\n      <td>simpleresnet small float</td>\n      <td>1.409600e+06</td>\n    </tr>\n    <tr>\n      <th>14</th>\n      <td>simpleresnet_{'size': 'small', 'model_type': '...</td>\n      <td>cuda</td>\n      <td>5</td>\n      <td>14</td>\n      <td>CrossEntropyLoss()</td>\n      <td>GNCLClassifier</td>\n      <td>/home/buschjae/projects/gncl/CIFAR100/21-12-20...</td>\n      <td>0</td>\n      <td>Dataset CIFAR100\\n    Number of datapoints: 10...</td>\n      <td>Dataset CIFAR100\\n    Number of datapoints: 50...</td>\n      <td>...</td>\n      <td>NaN</td>\n      <td>16.0</td>\n      <td>NaN</td>\n      <td>NaN</td>\n      <td>average</td>\n      <td>0.7</td>\n      <td>upper</td>\n      <td>GNLC λ = 0.7</td>\n      <td>simpleresnet small float</td>\n      <td>1.409600e+06</td>\n    </tr>\n    <tr>\n      <th>15</th>\n      <td>simpleresnet_{'size': 'small', 'model_type': '...</td>\n      <td>cuda</td>\n      <td>5</td>\n      <td>15</td>\n      <td>CrossEntropyLoss()</td>\n      <td>GNCLClassifier</td>\n      <td>/home/buschjae/projects/gncl/CIFAR100/21-12-20...</td>\n      <td>0</td>\n      <td>Dataset CIFAR100\\n    Number of datapoints: 10...</td>\n      <td>Dataset CIFAR100\\n    Number of datapoints: 50...</td>\n      <td>...</td>\n      <td>NaN</td>\n      <td>16.0</td>\n      <td>NaN</td>\n      <td>NaN</td>\n      <td>average</td>\n      <td>0.8</td>\n      <td>upper</td>\n      <td>GNLC λ = 0.8</td>\n      <td>simpleresnet small float</td>\n      <td>1.409600e+06</td>\n    </tr>\n    <tr>\n      <th>16</th>\n      <td>simpleresnet_{'size': 'small', 'model_type': '...</td>\n      <td>cuda</td>\n      <td>5</td>\n      <td>16</td>\n      <td>CrossEntropyLoss()</td>\n      <td>GNCLClassifier</td>\n      <td>/home/buschjae/projects/gncl/CIFAR100/21-12-20...</td>\n      <td>0</td>\n      <td>Dataset CIFAR100\\n    Number of datapoints: 10...</td>\n      <td>Dataset CIFAR100\\n    Number of datapoints: 50...</td>\n      <td>...</td>\n      <td>NaN</td>\n      <td>16.0</td>\n      <td>NaN</td>\n      <td>NaN</td>\n      <td>average</td>\n      <td>0.9</td>\n      <td>upper</td>\n      <td>GNLC λ = 0.9</td>\n      <td>simpleresnet small float</td>\n      <td>1.409600e+06</td>\n    </tr>\n    <tr>\n      <th>17</th>\n      <td>simpleresnet_{'size': 'large', 'model_type': '...</td>\n      <td>cuda</td>\n      <td>5</td>\n      <td>17</td>\n      <td>CrossEntropyLoss()</td>\n      <td>Model</td>\n      <td>/home/buschjae/projects/gncl/CIFAR100/21-12-20...</td>\n      <td>0</td>\n      <td>Dataset CIFAR100\\n    Number of datapoints: 10...</td>\n      <td>Dataset CIFAR100\\n    Number of datapoints: 50...</td>\n      <td>...</td>\n      <td>NaN</td>\n      <td>NaN</td>\n      <td>NaN</td>\n      <td>NaN</td>\n      <td>NaN</td>\n      <td>NaN</td>\n      <td>NaN</td>\n      <td>Single</td>\n      <td>simpleresnet large float</td>\n      <td>7.064680e+05</td>\n    </tr>\n    <tr>\n      <th>18</th>\n      <td>simpleresnet_{'size': 'large', 'model_type': '...</td>\n      <td>cuda</td>\n      <td>5</td>\n      <td>18</td>\n      <td>CrossEntropyLoss()</td>\n      <td>StackingClassifier</td>\n      <td>/home/buschjae/projects/gncl/CIFAR100/21-12-20...</td>\n      <td>0</td>\n      <td>Dataset CIFAR100\\n    Number of datapoints: 10...</td>\n      <td>Dataset CIFAR100\\n    Number of datapoints: 50...</td>\n      <td>...</td>\n      <td>stacking_classifier_{'model_type': 'float'}</td>\n      <td>16.0</td>\n      <td>NaN</td>\n      <td>NaN</td>\n      <td>NaN</td>\n      <td>NaN</td>\n      <td>NaN</td>\n      <td>StackingClassifier</td>\n      <td>simpleresnet large float</td>\n      <td>1.217006e+07</td>\n    </tr>\n    <tr>\n      <th>19</th>\n      <td>simpleresnet_{'size': 'large', 'model_type': '...</td>\n      <td>cuda</td>\n      <td>5</td>\n      <td>19</td>\n      <td>CrossEntropyLoss()</td>\n      <td>BaggingClassifier</td>\n      <td>/home/buschjae/projects/gncl/CIFAR100/21-12-20...</td>\n      <td>0</td>\n      <td>Dataset CIFAR100\\n    Number of datapoints: 10...</td>\n      <td>Dataset CIFAR100\\n    Number of datapoints: 50...</td>\n      <td>...</td>\n      <td>NaN</td>\n      <td>16.0</td>\n      <td>fast</td>\n      <td>NaN</td>\n      <td>NaN</td>\n      <td>NaN</td>\n      <td>NaN</td>\n      <td>Bagging</td>\n      <td>simpleresnet large float</td>\n      <td>1.130349e+07</td>\n    </tr>\n    <tr>\n      <th>20</th>\n      <td>simpleresnet_{'size': 'large', 'model_type': '...</td>\n      <td>cuda</td>\n      <td>5</td>\n      <td>20</td>\n      <td>CrossEntropyLoss()</td>\n      <td>GradientBoostedNets</td>\n      <td>/home/buschjae/projects/gncl/CIFAR100/21-12-20...</td>\n      <td>0</td>\n      <td>Dataset CIFAR100\\n    Number of datapoints: 10...</td>\n      <td>Dataset CIFAR100\\n    Number of datapoints: 50...</td>\n      <td>...</td>\n      <td>NaN</td>\n      <td>16.0</td>\n      <td>NaN</td>\n      <td>NaN</td>\n      <td>NaN</td>\n      <td>NaN</td>\n      <td>NaN</td>\n      <td>GB</td>\n      <td>simpleresnet large float</td>\n      <td>1.130349e+07</td>\n    </tr>\n    <tr>\n      <th>21</th>\n      <td>simpleresnet_{'size': 'large', 'model_type': '...</td>\n      <td>cuda</td>\n      <td>5</td>\n      <td>21</td>\n      <td>CrossEntropyLoss()</td>\n      <td>SnapshotEnsembleClassifier</td>\n      <td>/home/buschjae/projects/gncl/CIFAR100/21-12-20...</td>\n      <td>0</td>\n      <td>Dataset CIFAR100\\n    Number of datapoints: 10...</td>\n      <td>Dataset CIFAR100\\n    Number of datapoints: 50...</td>\n      <td>...</td>\n      <td>NaN</td>\n      <td>16.0</td>\n      <td>NaN</td>\n      <td>[2, 3, 4, 5, 10, 15, 20, 25, 30, 40, 50, 60, 7...</td>\n      <td>NaN</td>\n      <td>NaN</td>\n      <td>NaN</td>\n      <td>SE</td>\n      <td>simpleresnet large float</td>\n      <td>1.130349e+07</td>\n    </tr>\n    <tr>\n      <th>22</th>\n      <td>simpleresnet_{'size': 'large', 'model_type': '...</td>\n      <td>cuda</td>\n      <td>5</td>\n      <td>22</td>\n      <td>CrossEntropyLoss()</td>\n      <td>E2EEnsembleClassifier</td>\n      <td>/home/buschjae/projects/gncl/CIFAR100/21-12-20...</td>\n      <td>0</td>\n      <td>Dataset CIFAR100\\n    Number of datapoints: 10...</td>\n      <td>Dataset CIFAR100\\n    Number of datapoints: 50...</td>\n      <td>...</td>\n      <td>NaN</td>\n      <td>16.0</td>\n      <td>NaN</td>\n      <td>NaN</td>\n      <td>NaN</td>\n      <td>NaN</td>\n      <td>NaN</td>\n      <td>E2E</td>\n      <td>simpleresnet large float</td>\n      <td>1.130349e+07</td>\n    </tr>\n    <tr>\n      <th>23</th>\n      <td>simpleresnet_{'size': 'large', 'model_type': '...</td>\n      <td>cuda</td>\n      <td>5</td>\n      <td>23</td>\n      <td>CrossEntropyLoss()</td>\n      <td>SMCLClassifier</td>\n      <td>/home/buschjae/projects/gncl/CIFAR100/21-12-20...</td>\n      <td>0</td>\n      <td>Dataset CIFAR100\\n    Number of datapoints: 10...</td>\n      <td>Dataset CIFAR100\\n    Number of datapoints: 50...</td>\n      <td>...</td>\n      <td>NaN</td>\n      <td>16.0</td>\n      <td>NaN</td>\n      <td>NaN</td>\n      <td>best</td>\n      <td>NaN</td>\n      <td>NaN</td>\n      <td>SMCL</td>\n      <td>simpleresnet large float</td>\n      <td>1.130349e+07</td>\n    </tr>\n    <tr>\n      <th>24</th>\n      <td>simpleresnet_{'size': 'large', 'model_type': '...</td>\n      <td>cuda</td>\n      <td>5</td>\n      <td>24</td>\n      <td>CrossEntropyLoss()</td>\n      <td>GNCLClassifier</td>\n      <td>/home/buschjae/projects/gncl/CIFAR100/21-12-20...</td>\n      <td>0</td>\n      <td>Dataset CIFAR100\\n    Number of datapoints: 10...</td>\n      <td>Dataset CIFAR100\\n    Number of datapoints: 50...</td>\n      <td>...</td>\n      <td>NaN</td>\n      <td>16.0</td>\n      <td>NaN</td>\n      <td>NaN</td>\n      <td>average</td>\n      <td>0.0</td>\n      <td>upper</td>\n      <td>Ind.</td>\n      <td>simpleresnet large float</td>\n      <td>1.130349e+07</td>\n    </tr>\n    <tr>\n      <th>25</th>\n      <td>simpleresnet_{'size': 'large', 'model_type': '...</td>\n      <td>cuda</td>\n      <td>5</td>\n      <td>25</td>\n      <td>CrossEntropyLoss()</td>\n      <td>GNCLClassifier</td>\n      <td>/home/buschjae/projects/gncl/CIFAR100/21-12-20...</td>\n      <td>0</td>\n      <td>Dataset CIFAR100\\n    Number of datapoints: 10...</td>\n      <td>Dataset CIFAR100\\n    Number of datapoints: 50...</td>\n      <td>...</td>\n      <td>NaN</td>\n      <td>16.0</td>\n      <td>NaN</td>\n      <td>NaN</td>\n      <td>average</td>\n      <td>0.1</td>\n      <td>upper</td>\n      <td>GNLC λ = 0.1</td>\n      <td>simpleresnet large float</td>\n      <td>1.130349e+07</td>\n    </tr>\n    <tr>\n      <th>26</th>\n      <td>simpleresnet_{'size': 'large', 'model_type': '...</td>\n      <td>cuda</td>\n      <td>5</td>\n      <td>26</td>\n      <td>CrossEntropyLoss()</td>\n      <td>GNCLClassifier</td>\n      <td>/home/buschjae/projects/gncl/CIFAR100/21-12-20...</td>\n      <td>0</td>\n      <td>Dataset CIFAR100\\n    Number of datapoints: 10...</td>\n      <td>Dataset CIFAR100\\n    Number of datapoints: 50...</td>\n      <td>...</td>\n      <td>NaN</td>\n      <td>16.0</td>\n      <td>NaN</td>\n      <td>NaN</td>\n      <td>average</td>\n      <td>0.2</td>\n      <td>upper</td>\n      <td>GNLC λ = 0.2</td>\n      <td>simpleresnet large float</td>\n      <td>1.130349e+07</td>\n    </tr>\n    <tr>\n      <th>27</th>\n      <td>simpleresnet_{'size': 'large', 'model_type': '...</td>\n      <td>cuda</td>\n      <td>5</td>\n      <td>27</td>\n      <td>CrossEntropyLoss()</td>\n      <td>GNCLClassifier</td>\n      <td>/home/buschjae/projects/gncl/CIFAR100/21-12-20...</td>\n      <td>0</td>\n      <td>Dataset CIFAR100\\n    Number of datapoints: 10...</td>\n      <td>Dataset CIFAR100\\n    Number of datapoints: 50...</td>\n      <td>...</td>\n      <td>NaN</td>\n      <td>16.0</td>\n      <td>NaN</td>\n      <td>NaN</td>\n      <td>average</td>\n      <td>0.3</td>\n      <td>upper</td>\n      <td>GNLC λ = 0.3</td>\n      <td>simpleresnet large float</td>\n      <td>1.130349e+07</td>\n    </tr>\n    <tr>\n      <th>28</th>\n      <td>simpleresnet_{'size': 'large', 'model_type': '...</td>\n      <td>cuda</td>\n      <td>5</td>\n      <td>28</td>\n      <td>CrossEntropyLoss()</td>\n      <td>GNCLClassifier</td>\n      <td>/home/buschjae/projects/gncl/CIFAR100/21-12-20...</td>\n      <td>0</td>\n      <td>Dataset CIFAR100\\n    Number of datapoints: 10...</td>\n      <td>Dataset CIFAR100\\n    Number of datapoints: 50...</td>\n      <td>...</td>\n      <td>NaN</td>\n      <td>16.0</td>\n      <td>NaN</td>\n      <td>NaN</td>\n      <td>average</td>\n      <td>0.4</td>\n      <td>upper</td>\n      <td>GNLC λ = 0.4</td>\n      <td>simpleresnet large float</td>\n      <td>1.130349e+07</td>\n    </tr>\n    <tr>\n      <th>29</th>\n      <td>simpleresnet_{'size': 'large', 'model_type': '...</td>\n      <td>cuda</td>\n      <td>5</td>\n      <td>29</td>\n      <td>CrossEntropyLoss()</td>\n      <td>GNCLClassifier</td>\n      <td>/home/buschjae/projects/gncl/CIFAR100/21-12-20...</td>\n      <td>0</td>\n      <td>Dataset CIFAR100\\n    Number of datapoints: 10...</td>\n      <td>Dataset CIFAR100\\n    Number of datapoints: 50...</td>\n      <td>...</td>\n      <td>NaN</td>\n      <td>16.0</td>\n      <td>NaN</td>\n      <td>NaN</td>\n      <td>average</td>\n      <td>0.5</td>\n      <td>upper</td>\n      <td>GNLC λ = 0.5</td>\n      <td>simpleresnet large float</td>\n      <td>1.130349e+07</td>\n    </tr>\n    <tr>\n      <th>30</th>\n      <td>simpleresnet_{'size': 'large', 'model_type': '...</td>\n      <td>cuda</td>\n      <td>5</td>\n      <td>30</td>\n      <td>CrossEntropyLoss()</td>\n      <td>GNCLClassifier</td>\n      <td>/home/buschjae/projects/gncl/CIFAR100/21-12-20...</td>\n      <td>0</td>\n      <td>Dataset CIFAR100\\n    Number of datapoints: 10...</td>\n      <td>Dataset CIFAR100\\n    Number of datapoints: 50...</td>\n      <td>...</td>\n      <td>NaN</td>\n      <td>16.0</td>\n      <td>NaN</td>\n      <td>NaN</td>\n      <td>average</td>\n      <td>0.6</td>\n      <td>upper</td>\n      <td>GNLC λ = 0.6</td>\n      <td>simpleresnet large float</td>\n      <td>1.130349e+07</td>\n    </tr>\n    <tr>\n      <th>31</th>\n      <td>simpleresnet_{'size': 'large', 'model_type': '...</td>\n      <td>cuda</td>\n      <td>5</td>\n      <td>31</td>\n      <td>CrossEntropyLoss()</td>\n      <td>GNCLClassifier</td>\n      <td>/home/buschjae/projects/gncl/CIFAR100/21-12-20...</td>\n      <td>0</td>\n      <td>Dataset CIFAR100\\n    Number of datapoints: 10...</td>\n      <td>Dataset CIFAR100\\n    Number of datapoints: 50...</td>\n      <td>...</td>\n      <td>NaN</td>\n      <td>16.0</td>\n      <td>NaN</td>\n      <td>NaN</td>\n      <td>average</td>\n      <td>0.7</td>\n      <td>upper</td>\n      <td>GNLC λ = 0.7</td>\n      <td>simpleresnet large float</td>\n      <td>1.130349e+07</td>\n    </tr>\n    <tr>\n      <th>32</th>\n      <td>simpleresnet_{'size': 'large', 'model_type': '...</td>\n      <td>cuda</td>\n      <td>5</td>\n      <td>32</td>\n      <td>CrossEntropyLoss()</td>\n      <td>GNCLClassifier</td>\n      <td>/home/buschjae/projects/gncl/CIFAR100/21-12-20...</td>\n      <td>0</td>\n      <td>Dataset CIFAR100\\n    Number of datapoints: 10...</td>\n      <td>Dataset CIFAR100\\n    Number of datapoints: 50...</td>\n      <td>...</td>\n      <td>NaN</td>\n      <td>16.0</td>\n      <td>NaN</td>\n      <td>NaN</td>\n      <td>average</td>\n      <td>0.8</td>\n      <td>upper</td>\n      <td>GNLC λ = 0.8</td>\n      <td>simpleresnet large float</td>\n      <td>1.130349e+07</td>\n    </tr>\n    <tr>\n      <th>33</th>\n      <td>simpleresnet_{'size': 'large', 'model_type': '...</td>\n      <td>cuda</td>\n      <td>5</td>\n      <td>33</td>\n      <td>CrossEntropyLoss()</td>\n      <td>GNCLClassifier</td>\n      <td>/home/buschjae/projects/gncl/CIFAR100/21-12-20...</td>\n      <td>0</td>\n      <td>Dataset CIFAR100\\n    Number of datapoints: 10...</td>\n      <td>Dataset CIFAR100\\n    Number of datapoints: 50...</td>\n      <td>...</td>\n      <td>NaN</td>\n      <td>16.0</td>\n      <td>NaN</td>\n      <td>NaN</td>\n      <td>average</td>\n      <td>0.9</td>\n      <td>upper</td>\n      <td>GNLC λ = 0.9</td>\n      <td>simpleresnet large float</td>\n      <td>1.130349e+07</td>\n    </tr>\n    <tr>\n      <th>34</th>\n      <td>simpleresnet_{'size': 'small', 'model_type': '...</td>\n      <td>cuda</td>\n      <td>5</td>\n      <td>0</td>\n      <td>CrossEntropyLoss()</td>\n      <td>Model</td>\n      <td>/home/buschjae/projects/gncl/CIFAR100/16-12-20...</td>\n      <td>0</td>\n      <td>Dataset CIFAR100\\n    Number of datapoints: 10...</td>\n      <td>Dataset CIFAR100\\n    Number of datapoints: 50...</td>\n      <td>...</td>\n      <td>NaN</td>\n      <td>NaN</td>\n      <td>NaN</td>\n      <td>NaN</td>\n      <td>NaN</td>\n      <td>NaN</td>\n      <td>NaN</td>\n      <td>Single</td>\n      <td>simpleresnet small binary</td>\n      <td>2.761156e+03</td>\n    </tr>\n    <tr>\n      <th>35</th>\n      <td>simpleresnet_{'size': 'small', 'model_type': '...</td>\n      <td>cuda</td>\n      <td>5</td>\n      <td>1</td>\n      <td>CrossEntropyLoss()</td>\n      <td>StackingClassifier</td>\n      <td>/home/buschjae/projects/gncl/CIFAR100/16-12-20...</td>\n      <td>0</td>\n      <td>Dataset CIFAR100\\n    Number of datapoints: 10...</td>\n      <td>Dataset CIFAR100\\n    Number of datapoints: 50...</td>\n      <td>...</td>\n      <td>stacking_classifier_{'model_type': 'binary'}</td>\n      <td>16.0</td>\n      <td>NaN</td>\n      <td>NaN</td>\n      <td>NaN</td>\n      <td>NaN</td>\n      <td>NaN</td>\n      <td>StackingClassifier</td>\n      <td>simpleresnet small binary</td>\n      <td>5.194281e+04</td>\n    </tr>\n    <tr>\n      <th>36</th>\n      <td>simpleresnet_{'size': 'small', 'model_type': '...</td>\n      <td>cuda</td>\n      <td>5</td>\n      <td>2</td>\n      <td>CrossEntropyLoss()</td>\n      <td>BaggingClassifier</td>\n      <td>/home/buschjae/projects/gncl/CIFAR100/16-12-20...</td>\n      <td>0</td>\n      <td>Dataset CIFAR100\\n    Number of datapoints: 10...</td>\n      <td>Dataset CIFAR100\\n    Number of datapoints: 50...</td>\n      <td>...</td>\n      <td>NaN</td>\n      <td>16.0</td>\n      <td>fast</td>\n      <td>NaN</td>\n      <td>NaN</td>\n      <td>NaN</td>\n      <td>NaN</td>\n      <td>Bagging</td>\n      <td>simpleresnet small binary</td>\n      <td>4.417850e+04</td>\n    </tr>\n    <tr>\n      <th>37</th>\n      <td>simpleresnet_{'size': 'small', 'model_type': '...</td>\n      <td>cuda</td>\n      <td>5</td>\n      <td>3</td>\n      <td>CrossEntropyLoss()</td>\n      <td>GradientBoostedNets</td>\n      <td>/home/buschjae/projects/gncl/CIFAR100/16-12-20...</td>\n      <td>0</td>\n      <td>Dataset CIFAR100\\n    Number of datapoints: 10...</td>\n      <td>Dataset CIFAR100\\n    Number of datapoints: 50...</td>\n      <td>...</td>\n      <td>NaN</td>\n      <td>16.0</td>\n      <td>NaN</td>\n      <td>NaN</td>\n      <td>NaN</td>\n      <td>NaN</td>\n      <td>NaN</td>\n      <td>GB</td>\n      <td>simpleresnet small binary</td>\n      <td>4.417850e+04</td>\n    </tr>\n    <tr>\n      <th>38</th>\n      <td>simpleresnet_{'size': 'small', 'model_type': '...</td>\n      <td>cuda</td>\n      <td>5</td>\n      <td>4</td>\n      <td>CrossEntropyLoss()</td>\n      <td>SnapshotEnsembleClassifier</td>\n      <td>/home/buschjae/projects/gncl/CIFAR100/16-12-20...</td>\n      <td>0</td>\n      <td>Dataset CIFAR100\\n    Number of datapoints: 10...</td>\n      <td>Dataset CIFAR100\\n    Number of datapoints: 50...</td>\n      <td>...</td>\n      <td>NaN</td>\n      <td>16.0</td>\n      <td>NaN</td>\n      <td>[2, 3, 4, 5, 10, 15, 20, 25, 30, 40, 50, 60, 7...</td>\n      <td>NaN</td>\n      <td>NaN</td>\n      <td>NaN</td>\n      <td>SE</td>\n      <td>simpleresnet small binary</td>\n      <td>4.417850e+04</td>\n    </tr>\n    <tr>\n      <th>39</th>\n      <td>simpleresnet_{'size': 'small', 'model_type': '...</td>\n      <td>cuda</td>\n      <td>5</td>\n      <td>5</td>\n      <td>CrossEntropyLoss()</td>\n      <td>E2EEnsembleClassifier</td>\n      <td>/home/buschjae/projects/gncl/CIFAR100/16-12-20...</td>\n      <td>0</td>\n      <td>Dataset CIFAR100\\n    Number of datapoints: 10...</td>\n      <td>Dataset CIFAR100\\n    Number of datapoints: 50...</td>\n      <td>...</td>\n      <td>NaN</td>\n      <td>16.0</td>\n      <td>NaN</td>\n      <td>NaN</td>\n      <td>NaN</td>\n      <td>NaN</td>\n      <td>NaN</td>\n      <td>E2E</td>\n      <td>simpleresnet small binary</td>\n      <td>4.417850e+04</td>\n    </tr>\n    <tr>\n      <th>40</th>\n      <td>simpleresnet_{'size': 'small', 'model_type': '...</td>\n      <td>cuda</td>\n      <td>5</td>\n      <td>6</td>\n      <td>CrossEntropyLoss()</td>\n      <td>SMCLClassifier</td>\n      <td>/home/buschjae/projects/gncl/CIFAR100/16-12-20...</td>\n      <td>0</td>\n      <td>Dataset CIFAR100\\n    Number of datapoints: 10...</td>\n      <td>Dataset CIFAR100\\n    Number of datapoints: 50...</td>\n      <td>...</td>\n      <td>NaN</td>\n      <td>16.0</td>\n      <td>NaN</td>\n      <td>NaN</td>\n      <td>best</td>\n      <td>NaN</td>\n      <td>NaN</td>\n      <td>SMCL</td>\n      <td>simpleresnet small binary</td>\n      <td>4.417850e+04</td>\n    </tr>\n    <tr>\n      <th>41</th>\n      <td>simpleresnet_{'size': 'small', 'model_type': '...</td>\n      <td>cuda</td>\n      <td>5</td>\n      <td>7</td>\n      <td>CrossEntropyLoss()</td>\n      <td>GNCLClassifier</td>\n      <td>/home/buschjae/projects/gncl/CIFAR100/16-12-20...</td>\n      <td>0</td>\n      <td>Dataset CIFAR100\\n    Number of datapoints: 10...</td>\n      <td>Dataset CIFAR100\\n    Number of datapoints: 50...</td>\n      <td>...</td>\n      <td>NaN</td>\n      <td>16.0</td>\n      <td>NaN</td>\n      <td>NaN</td>\n      <td>average</td>\n      <td>0.0</td>\n      <td>upper</td>\n      <td>Ind.</td>\n      <td>simpleresnet small binary</td>\n      <td>4.417850e+04</td>\n    </tr>\n    <tr>\n      <th>42</th>\n      <td>simpleresnet_{'size': 'small', 'model_type': '...</td>\n      <td>cuda</td>\n      <td>5</td>\n      <td>8</td>\n      <td>CrossEntropyLoss()</td>\n      <td>GNCLClassifier</td>\n      <td>/home/buschjae/projects/gncl/CIFAR100/16-12-20...</td>\n      <td>0</td>\n      <td>Dataset CIFAR100\\n    Number of datapoints: 10...</td>\n      <td>Dataset CIFAR100\\n    Number of datapoints: 50...</td>\n      <td>...</td>\n      <td>NaN</td>\n      <td>16.0</td>\n      <td>NaN</td>\n      <td>NaN</td>\n      <td>average</td>\n      <td>0.1</td>\n      <td>upper</td>\n      <td>GNLC λ = 0.1</td>\n      <td>simpleresnet small binary</td>\n      <td>4.417850e+04</td>\n    </tr>\n    <tr>\n      <th>43</th>\n      <td>simpleresnet_{'size': 'small', 'model_type': '...</td>\n      <td>cuda</td>\n      <td>5</td>\n      <td>9</td>\n      <td>CrossEntropyLoss()</td>\n      <td>GNCLClassifier</td>\n      <td>/home/buschjae/projects/gncl/CIFAR100/16-12-20...</td>\n      <td>0</td>\n      <td>Dataset CIFAR100\\n    Number of datapoints: 10...</td>\n      <td>Dataset CIFAR100\\n    Number of datapoints: 50...</td>\n      <td>...</td>\n      <td>NaN</td>\n      <td>16.0</td>\n      <td>NaN</td>\n      <td>NaN</td>\n      <td>average</td>\n      <td>0.2</td>\n      <td>upper</td>\n      <td>GNLC λ = 0.2</td>\n      <td>simpleresnet small binary</td>\n      <td>4.417850e+04</td>\n    </tr>\n    <tr>\n      <th>44</th>\n      <td>simpleresnet_{'size': 'small', 'model_type': '...</td>\n      <td>cuda</td>\n      <td>5</td>\n      <td>10</td>\n      <td>CrossEntropyLoss()</td>\n      <td>GNCLClassifier</td>\n      <td>/home/buschjae/projects/gncl/CIFAR100/16-12-20...</td>\n      <td>0</td>\n      <td>Dataset CIFAR100\\n    Number of datapoints: 10...</td>\n      <td>Dataset CIFAR100\\n    Number of datapoints: 50...</td>\n      <td>...</td>\n      <td>NaN</td>\n      <td>16.0</td>\n      <td>NaN</td>\n      <td>NaN</td>\n      <td>average</td>\n      <td>0.3</td>\n      <td>upper</td>\n      <td>GNLC λ = 0.3</td>\n      <td>simpleresnet small binary</td>\n      <td>4.417850e+04</td>\n    </tr>\n    <tr>\n      <th>45</th>\n      <td>simpleresnet_{'size': 'small', 'model_type': '...</td>\n      <td>cuda</td>\n      <td>5</td>\n      <td>11</td>\n      <td>CrossEntropyLoss()</td>\n      <td>GNCLClassifier</td>\n      <td>/home/buschjae/projects/gncl/CIFAR100/16-12-20...</td>\n      <td>0</td>\n      <td>Dataset CIFAR100\\n    Number of datapoints: 10...</td>\n      <td>Dataset CIFAR100\\n    Number of datapoints: 50...</td>\n      <td>...</td>\n      <td>NaN</td>\n      <td>16.0</td>\n      <td>NaN</td>\n      <td>NaN</td>\n      <td>average</td>\n      <td>0.4</td>\n      <td>upper</td>\n      <td>GNLC λ = 0.4</td>\n      <td>simpleresnet small binary</td>\n      <td>4.417850e+04</td>\n    </tr>\n    <tr>\n      <th>46</th>\n      <td>simpleresnet_{'size': 'small', 'model_type': '...</td>\n      <td>cuda</td>\n      <td>5</td>\n      <td>12</td>\n      <td>CrossEntropyLoss()</td>\n      <td>GNCLClassifier</td>\n      <td>/home/buschjae/projects/gncl/CIFAR100/16-12-20...</td>\n      <td>0</td>\n      <td>Dataset CIFAR100\\n    Number of datapoints: 10...</td>\n      <td>Dataset CIFAR100\\n    Number of datapoints: 50...</td>\n      <td>...</td>\n      <td>NaN</td>\n      <td>16.0</td>\n      <td>NaN</td>\n      <td>NaN</td>\n      <td>average</td>\n      <td>0.5</td>\n      <td>upper</td>\n      <td>GNLC λ = 0.5</td>\n      <td>simpleresnet small binary</td>\n      <td>4.417850e+04</td>\n    </tr>\n    <tr>\n      <th>47</th>\n      <td>simpleresnet_{'size': 'small', 'model_type': '...</td>\n      <td>cuda</td>\n      <td>5</td>\n      <td>13</td>\n      <td>CrossEntropyLoss()</td>\n      <td>GNCLClassifier</td>\n      <td>/home/buschjae/projects/gncl/CIFAR100/16-12-20...</td>\n      <td>0</td>\n      <td>Dataset CIFAR100\\n    Number of datapoints: 10...</td>\n      <td>Dataset CIFAR100\\n    Number of datapoints: 50...</td>\n      <td>...</td>\n      <td>NaN</td>\n      <td>16.0</td>\n      <td>NaN</td>\n      <td>NaN</td>\n      <td>average</td>\n      <td>0.6</td>\n      <td>upper</td>\n      <td>GNLC λ = 0.6</td>\n      <td>simpleresnet small binary</td>\n      <td>4.417850e+04</td>\n    </tr>\n    <tr>\n      <th>48</th>\n      <td>simpleresnet_{'size': 'small', 'model_type': '...</td>\n      <td>cuda</td>\n      <td>5</td>\n      <td>14</td>\n      <td>CrossEntropyLoss()</td>\n      <td>GNCLClassifier</td>\n      <td>/home/buschjae/projects/gncl/CIFAR100/16-12-20...</td>\n      <td>0</td>\n      <td>Dataset CIFAR100\\n    Number of datapoints: 10...</td>\n      <td>Dataset CIFAR100\\n    Number of datapoints: 50...</td>\n      <td>...</td>\n      <td>NaN</td>\n      <td>16.0</td>\n      <td>NaN</td>\n      <td>NaN</td>\n      <td>average</td>\n      <td>0.7</td>\n      <td>upper</td>\n      <td>GNLC λ = 0.7</td>\n      <td>simpleresnet small binary</td>\n      <td>4.417850e+04</td>\n    </tr>\n    <tr>\n      <th>49</th>\n      <td>simpleresnet_{'size': 'small', 'model_type': '...</td>\n      <td>cuda</td>\n      <td>5</td>\n      <td>15</td>\n      <td>CrossEntropyLoss()</td>\n      <td>GNCLClassifier</td>\n      <td>/home/buschjae/projects/gncl/CIFAR100/16-12-20...</td>\n      <td>0</td>\n      <td>Dataset CIFAR100\\n    Number of datapoints: 10...</td>\n      <td>Dataset CIFAR100\\n    Number of datapoints: 50...</td>\n      <td>...</td>\n      <td>NaN</td>\n      <td>16.0</td>\n      <td>NaN</td>\n      <td>NaN</td>\n      <td>average</td>\n      <td>0.8</td>\n      <td>upper</td>\n      <td>GNLC λ = 0.8</td>\n      <td>simpleresnet small binary</td>\n      <td>4.417850e+04</td>\n    </tr>\n    <tr>\n      <th>50</th>\n      <td>simpleresnet_{'size': 'small', 'model_type': '...</td>\n      <td>cuda</td>\n      <td>5</td>\n      <td>16</td>\n      <td>CrossEntropyLoss()</td>\n      <td>GNCLClassifier</td>\n      <td>/home/buschjae/projects/gncl/CIFAR100/16-12-20...</td>\n      <td>0</td>\n      <td>Dataset CIFAR100\\n    Number of datapoints: 10...</td>\n      <td>Dataset CIFAR100\\n    Number of datapoints: 50...</td>\n      <td>...</td>\n      <td>NaN</td>\n      <td>16.0</td>\n      <td>NaN</td>\n      <td>NaN</td>\n      <td>average</td>\n      <td>0.9</td>\n      <td>upper</td>\n      <td>GNLC λ = 0.9</td>\n      <td>simpleresnet small binary</td>\n      <td>4.417850e+04</td>\n    </tr>\n    <tr>\n      <th>51</th>\n      <td>simpleresnet_{'size': 'small', 'model_type': '...</td>\n      <td>cuda</td>\n      <td>5</td>\n      <td>17</td>\n      <td>CrossEntropyLoss()</td>\n      <td>Model</td>\n      <td>/home/buschjae/projects/gncl/CIFAR100/16-12-20...</td>\n      <td>0</td>\n      <td>Dataset CIFAR100\\n    Number of datapoints: 10...</td>\n      <td>Dataset CIFAR100\\n    Number of datapoints: 50...</td>\n      <td>...</td>\n      <td>NaN</td>\n      <td>NaN</td>\n      <td>NaN</td>\n      <td>NaN</td>\n      <td>NaN</td>\n      <td>NaN</td>\n      <td>NaN</td>\n      <td>Single</td>\n      <td>simpleresnet small float</td>\n      <td>8.810000e+04</td>\n    </tr>\n  </tbody>\n</table>\n<p>52 rows × 69 columns</p>\n</div>"
     },
     "metadata": {},
     "execution_count": 7
    }
   ],
   "source": [
    "import pandas as pd\n",
    "from pandas.io.json import json_normalize \n",
    "import os\n",
    "import plotly.express as px\n",
    "import json \n",
    "\n",
    "dataset = \"CIFAR100\"\n",
    "#dataset = \"FASHION\"\n",
    "#dataset = \"IMAGENETTE\"\n",
    "all_subdirs = [os.path.join(dataset,d) for d in os.listdir(dataset) if os.path.isdir(os.path.join(dataset, d)) and d != \"cifar-100-python\"]\n",
    "print(all_subdirs)\n",
    "latest_folder = max(all_subdirs, key=os.path.getmtime)\n",
    "#latest_folder = os.path.join(dataset,\"24-11-2020-15:02:28\")\n",
    "\n",
    "data = []\n",
    "with open(os.path.join(latest_folder, \"results.jsonl\"), 'r', encoding='utf-8') as f:\n",
    "    for line in f:\n",
    "        data.append(json.loads(line))\n",
    "\n",
    "#print(data)\n",
    "df = json_normalize(data)\n",
    "df = df.applymap(lambda x: x[0] if (isinstance(x, list) and len(x) == 1) else x)\n",
    "\n",
    "def nice_name(row):\n",
    "    if row[\"model\"] == \"GNCLClassifier\":\n",
    "        if row[\"l_reg\"] == 0:\n",
    "            return \"Ind.\"\n",
    "        else:\n",
    "            return u\"GNLC \\u03BB = {}\".format(row[\"l_reg\"]) \n",
    "    elif row[\"model\"] == \"BaggingClassifier\":\n",
    "        return \"Bagging\"\n",
    "    elif row[\"model\"] == \"E2EEnsembleClassifier\":\n",
    "        return \"E2E\"\n",
    "    elif row[\"model\"] == \"Model\":\n",
    "        return \"Single\"\n",
    "    elif row[\"model\"] == \"SMCLClassifier\":\n",
    "        return \"SMCL\"\n",
    "    elif row[\"model\"] == \"GradientBoostedNets\":\n",
    "        return \"GB\"\n",
    "    elif row[\"model\"] == \"SnapshotEnsembleClassifier\":\n",
    "        return \"SE\"\n",
    "    else:\n",
    "        return row[\"model\"]\n",
    "\n",
    "def base_type(row):\n",
    "    if \"binary\" in row[\"base_estimator\"]:\n",
    "        mtype = \"binary\"\n",
    "    else:\n",
    "        mtype = \"float\"\n",
    "\n",
    "    if \"small\" in row[\"base_estimator\"]:\n",
    "        size = \"small\"\n",
    "    else:\n",
    "        size = \"large\"\n",
    "\n",
    "    return row[\"base_estimator\"].split(\"_\")[0] + \" \" + size + \" \" + mtype\n",
    "\n",
    "print(df.columns)     \n",
    "df[\"nice_name\"] = df.apply(nice_name, axis=1)\n",
    "df[\"model_type\"] = df.apply(base_type, axis=1)\n",
    "df[\"complexity\"] = df.apply(lambda x : x[\"scores.params\"] if \"float\" in x[\"model_type\"] else x[\"scores.params\"] / 32.0, axis=1)\n",
    "#df[\"scores.avg_accurcay_test\"] = df[\"scores.mean_test_avg_accurcay\"]\n",
    "#df[\"scores.accuracy_test\"] = 100.0*df[\"scores.mean_test_accuracy\"]\n",
    "df = df.round(decimals = 3)\n",
    "\n",
    "print(\"{} experiments done\".format(len(df)))\n",
    "#cols = df.columns\n",
    "#cols = [\"nice_name\", \"model_type\", \"mode\", \"scores.mean_test_accuracy\", \"scores.params\", \"scores.mean_train_diversity\"] + list(set(cols) - set([\"nice_name\", #\"model_type\", \"mode\", \"scores.mean_accuracy_test\", \"scores.params\", \"scores.mean_train_diversity\"]))\n",
    "#df = df.reindex(cols, axis=1)\n",
    "df\n",
    "#dfbinary = df[df[\"model_type\"] == \"binary\"]\n",
    "#dffloat = df[df[\"model_type\"] == \"float\"]  \n",
    "#dffloat\n"
   ]
  },
  {
   "cell_type": "code",
   "execution_count": 10,
   "metadata": {},
   "outputs": [
    {
     "output_type": "display_data",
     "data": {
      "application/vnd.plotly.v1+json": {
       "config": {
        "plotlyServerURL": "https://plot.ly"
       },
       "data": [
        {
         "marker": {
          "color": "#636EFA"
         },
         "showlegend": false,
         "text": [
          60.508,
          50.313,
          42.256,
          50.957,
          58.662,
          0.967,
          48.613,
          49.492,
          50.615,
          51.709,
          52.764,
          54.297,
          56.27,
          59.648,
          59.102,
          59.971
         ],
         "textangle": 0,
         "textfont": {
          "size": 14
         },
         "textposition": "inside",
         "texttemplate": "%{text:.2f}",
         "type": "bar",
         "x": [
          "StackingClassifier",
          "Bagging",
          "GB",
          "SE",
          "E2E",
          "SMCL",
          "Ind.",
          "GNLC λ = 0.1",
          "GNLC λ = 0.2",
          "GNLC λ = 0.3",
          "GNLC λ = 0.4",
          "GNLC λ = 0.5",
          "GNLC λ = 0.6",
          "GNLC λ = 0.7",
          "GNLC λ = 0.8",
          "GNLC λ = 0.9"
         ],
         "xaxis": "x",
         "y": [
          60.508,
          50.313,
          42.256,
          50.957,
          58.662,
          0.967,
          48.613,
          49.492,
          50.615,
          51.709,
          52.764,
          54.297,
          56.27,
          59.648,
          59.102,
          59.971
         ],
         "yaxis": "y"
        },
        {
         "marker": {
          "color": "#636EFA"
         },
         "showlegend": false,
         "text": [
          11.58,
          0.634,
          0.345,
          26.391,
          47.886,
          0.908,
          0.665,
          0.724,
          0.742,
          0.793,
          0.999,
          1.186,
          1.502,
          2.45,
          3.774,
          7.804
         ],
         "textangle": 0,
         "textfont": {
          "size": 14
         },
         "textposition": "inside",
         "texttemplate": "%{text:.2f}",
         "type": "bar",
         "x": [
          "StackingClassifier",
          "Bagging",
          "GB",
          "SE",
          "E2E",
          "SMCL",
          "Ind.",
          "GNLC λ = 0.1",
          "GNLC λ = 0.2",
          "GNLC λ = 0.3",
          "GNLC λ = 0.4",
          "GNLC λ = 0.5",
          "GNLC λ = 0.6",
          "GNLC λ = 0.7",
          "GNLC λ = 0.8",
          "GNLC λ = 0.9"
         ],
         "xaxis": "x4",
         "y": [
          11.58,
          0.634,
          0.345,
          26.391,
          47.886,
          0.908,
          0.665,
          0.724,
          0.742,
          0.793,
          0.999,
          1.186,
          1.502,
          2.45,
          3.774,
          7.804
         ],
         "yaxis": "y4"
        },
        {
         "marker": {
          "color": "#636EFA"
         },
         "showlegend": false,
         "text": [
          0.969,
          35.001,
          4.342,
          5.73,
          4.365,
          5.514,
          34.208,
          34.083,
          35.039,
          34.716,
          33.826,
          32.917,
          31.225,
          29.158,
          23.757,
          15.745
         ],
         "textangle": 0,
         "textfont": {
          "size": 14
         },
         "textposition": "inside",
         "texttemplate": "%{text:.2f}",
         "type": "bar",
         "x": [
          "StackingClassifier",
          "Bagging",
          "GB",
          "SE",
          "E2E",
          "SMCL",
          "Ind.",
          "GNLC λ = 0.1",
          "GNLC λ = 0.2",
          "GNLC λ = 0.3",
          "GNLC λ = 0.4",
          "GNLC λ = 0.5",
          "GNLC λ = 0.6",
          "GNLC λ = 0.7",
          "GNLC λ = 0.8",
          "GNLC λ = 0.9"
         ],
         "xaxis": "x7",
         "y": [
          0.969,
          35.001,
          4.342,
          5.73,
          4.365,
          5.514,
          34.208,
          34.083,
          35.039,
          34.716,
          33.826,
          32.917,
          31.225,
          29.158,
          23.757,
          15.745
         ],
         "yaxis": "y7"
        },
        {
         "marker": {
          "color": "#636EFA"
         },
         "showlegend": false,
         "text": [
          0.586,
          1.905,
          4.117,
          1.699,
          0.734,
          71.756,
          1.923,
          1.89,
          1.828,
          1.8,
          1.695,
          1.62,
          1.537,
          1.333,
          1.261,
          1.016
         ],
         "textangle": 0,
         "textfont": {
          "size": 14
         },
         "textposition": "inside",
         "texttemplate": "%{text:.2f}",
         "type": "bar",
         "x": [
          "StackingClassifier",
          "Bagging",
          "GB",
          "SE",
          "E2E",
          "SMCL",
          "Ind.",
          "GNLC λ = 0.1",
          "GNLC λ = 0.2",
          "GNLC λ = 0.3",
          "GNLC λ = 0.4",
          "GNLC λ = 0.5",
          "GNLC λ = 0.6",
          "GNLC λ = 0.7",
          "GNLC λ = 0.8",
          "GNLC λ = 0.9"
         ],
         "xaxis": "x10",
         "y": [
          0.586,
          1.905,
          4.117,
          1.699,
          0.734,
          71.756,
          1.923,
          1.89,
          1.828,
          1.8,
          1.695,
          1.62,
          1.537,
          1.333,
          1.261,
          1.016
         ],
         "yaxis": "y10"
        },
        {
         "marker": {
          "color": "#636EFA"
         },
         "showlegend": false,
         "text": [
          61.396,
          63.535,
          57.285,
          61.113,
          66.787,
          36.65,
          67.158,
          68.018,
          68.203,
          68.242,
          69.365,
          69.59,
          70.518,
          70.537,
          70.811,
          69.678
         ],
         "textangle": 0,
         "textfont": {
          "size": 14
         },
         "textposition": "inside",
         "texttemplate": "%{text:.2f}",
         "type": "bar",
         "x": [
          "StackingClassifier",
          "Bagging",
          "GB",
          "SE",
          "E2E",
          "SMCL",
          "Ind.",
          "GNLC λ = 0.1",
          "GNLC λ = 0.2",
          "GNLC λ = 0.3",
          "GNLC λ = 0.4",
          "GNLC λ = 0.5",
          "GNLC λ = 0.6",
          "GNLC λ = 0.7",
          "GNLC λ = 0.8",
          "GNLC λ = 0.9"
         ],
         "xaxis": "x2",
         "y": [
          61.396,
          63.535,
          57.285,
          61.113,
          66.787,
          36.65,
          67.158,
          68.018,
          68.203,
          68.242,
          69.365,
          69.59,
          70.518,
          70.537,
          70.811,
          69.678
         ],
         "yaxis": "y2"
        },
        {
         "marker": {
          "color": "#636EFA"
         },
         "showlegend": false,
         "text": [
          0.05,
          0.668,
          0.919,
          21.088,
          109.781,
          7.973,
          0.471,
          0.524,
          0.601,
          0.686,
          0.821,
          1.048,
          1.441,
          2.447,
          4.024,
          7.078
         ],
         "textangle": 0,
         "textfont": {
          "size": 14
         },
         "textposition": "inside",
         "texttemplate": "%{text:.2f}",
         "type": "bar",
         "x": [
          "StackingClassifier",
          "Bagging",
          "GB",
          "SE",
          "E2E",
          "SMCL",
          "Ind.",
          "GNLC λ = 0.1",
          "GNLC λ = 0.2",
          "GNLC λ = 0.3",
          "GNLC λ = 0.4",
          "GNLC λ = 0.5",
          "GNLC λ = 0.6",
          "GNLC λ = 0.7",
          "GNLC λ = 0.8",
          "GNLC λ = 0.9"
         ],
         "xaxis": "x5",
         "y": [
          0.05,
          0.668,
          0.919,
          21.088,
          109.781,
          7.973,
          0.471,
          0.524,
          0.601,
          0.686,
          0.821,
          1.048,
          1.441,
          2.447,
          4.024,
          7.078
         ],
         "yaxis": "y5"
        },
        {
         "marker": {
          "color": "#636EFA"
         },
         "showlegend": false,
         "text": [
          0.964,
          50.77,
          4.413,
          9.168,
          4.403,
          5.596,
          56.924,
          56.571,
          55.526,
          54.645,
          53.525,
          51.294,
          48.584,
          43.8,
          37.755,
          28.594
         ],
         "textangle": 0,
         "textfont": {
          "size": 14
         },
         "textposition": "inside",
         "texttemplate": "%{text:.2f}",
         "type": "bar",
         "x": [
          "StackingClassifier",
          "Bagging",
          "GB",
          "SE",
          "E2E",
          "SMCL",
          "Ind.",
          "GNLC λ = 0.1",
          "GNLC λ = 0.2",
          "GNLC λ = 0.3",
          "GNLC λ = 0.4",
          "GNLC λ = 0.5",
          "GNLC λ = 0.6",
          "GNLC λ = 0.7",
          "GNLC λ = 0.8",
          "GNLC λ = 0.9"
         ],
         "xaxis": "x8",
         "y": [
          0.964,
          50.77,
          4.413,
          9.168,
          4.403,
          5.596,
          56.924,
          56.571,
          55.526,
          54.645,
          53.525,
          51.294,
          48.584,
          43.8,
          37.755,
          28.594
         ],
         "yaxis": "y8"
        },
        {
         "marker": {
          "color": "#636EFA"
         },
         "showlegend": false,
         "text": [
          0.45,
          0.947,
          3.812,
          0.887,
          0.014,
          6.328,
          0.753,
          0.71,
          0.667,
          0.625,
          0.561,
          0.495,
          0.398,
          0.287,
          0.185,
          0.104
         ],
         "textangle": 0,
         "textfont": {
          "size": 14
         },
         "textposition": "inside",
         "texttemplate": "%{text:.2f}",
         "type": "bar",
         "x": [
          "StackingClassifier",
          "Bagging",
          "GB",
          "SE",
          "E2E",
          "SMCL",
          "Ind.",
          "GNLC λ = 0.1",
          "GNLC λ = 0.2",
          "GNLC λ = 0.3",
          "GNLC λ = 0.4",
          "GNLC λ = 0.5",
          "GNLC λ = 0.6",
          "GNLC λ = 0.7",
          "GNLC λ = 0.8",
          "GNLC λ = 0.9"
         ],
         "xaxis": "x11",
         "y": [
          0.45,
          0.947,
          3.812,
          0.887,
          0.014,
          6.328,
          0.753,
          0.71,
          0.667,
          0.625,
          0.561,
          0.495,
          0.398,
          0.287,
          0.185,
          0.104
         ],
         "yaxis": "y11"
        },
        {
         "marker": {
          "color": "#636EFA"
         },
         "showlegend": false,
         "text": [
          47.344,
          70.527,
          64.355,
          65.01,
          70.449,
          30.742,
          75.41,
          75,
          75.137,
          75.117,
          75,
          74.951,
          74.57,
          74.717,
          74.492,
          74.189
         ],
         "textangle": 0,
         "textfont": {
          "size": 14
         },
         "textposition": "inside",
         "texttemplate": "%{text:.2f}",
         "type": "bar",
         "x": [
          "StackingClassifier",
          "Bagging",
          "GB",
          "SE",
          "E2E",
          "SMCL",
          "Ind.",
          "GNLC λ = 0.1",
          "GNLC λ = 0.2",
          "GNLC λ = 0.3",
          "GNLC λ = 0.4",
          "GNLC λ = 0.5",
          "GNLC λ = 0.6",
          "GNLC λ = 0.7",
          "GNLC λ = 0.8",
          "GNLC λ = 0.9"
         ],
         "xaxis": "x3",
         "y": [
          47.344,
          70.527,
          64.355,
          65.01,
          70.449,
          30.742,
          75.41,
          75,
          75.137,
          75.117,
          75,
          74.951,
          74.57,
          74.717,
          74.492,
          74.189
         ],
         "yaxis": "y3"
        },
        {
         "marker": {
          "color": "#636EFA"
         },
         "showlegend": false,
         "text": [
          0.007,
          1.625,
          6.327,
          23.741,
          83.407,
          7.801,
          1.18,
          1.204,
          1.248,
          1.337,
          1.357,
          1.406,
          1.527,
          1.804,
          2.495,
          3.915
         ],
         "textangle": 0,
         "textfont": {
          "size": 14
         },
         "textposition": "inside",
         "texttemplate": "%{text:.2f}",
         "type": "bar",
         "x": [
          "StackingClassifier",
          "Bagging",
          "GB",
          "SE",
          "E2E",
          "SMCL",
          "Ind.",
          "GNLC λ = 0.1",
          "GNLC λ = 0.2",
          "GNLC λ = 0.3",
          "GNLC λ = 0.4",
          "GNLC λ = 0.5",
          "GNLC λ = 0.6",
          "GNLC λ = 0.7",
          "GNLC λ = 0.8",
          "GNLC λ = 0.9"
         ],
         "xaxis": "x6",
         "y": [
          0.007,
          1.625,
          6.327,
          23.741,
          83.407,
          7.801,
          1.18,
          1.204,
          1.248,
          1.337,
          1.357,
          1.406,
          1.527,
          1.804,
          2.495,
          3.915
         ],
         "yaxis": "y6"
        },
        {
         "marker": {
          "color": "#636EFA"
         },
         "showlegend": false,
         "text": [
          1.107,
          56.828,
          4.838,
          13.253,
          6.256,
          5.681,
          64.848,
          64.323,
          64.207,
          63.697,
          63.303,
          62.795,
          61.504,
          59.045,
          54.977,
          47.22
         ],
         "textangle": 0,
         "textfont": {
          "size": 14
         },
         "textposition": "inside",
         "texttemplate": "%{text:.2f}",
         "type": "bar",
         "x": [
          "StackingClassifier",
          "Bagging",
          "GB",
          "SE",
          "E2E",
          "SMCL",
          "Ind.",
          "GNLC λ = 0.1",
          "GNLC λ = 0.2",
          "GNLC λ = 0.3",
          "GNLC λ = 0.4",
          "GNLC λ = 0.5",
          "GNLC λ = 0.6",
          "GNLC λ = 0.7",
          "GNLC λ = 0.8",
          "GNLC λ = 0.9"
         ],
         "xaxis": "x9",
         "y": [
          1.107,
          56.828,
          4.838,
          13.253,
          6.256,
          5.681,
          64.848,
          64.323,
          64.207,
          63.697,
          63.303,
          62.795,
          61.504,
          59.045,
          54.977,
          47.22
         ],
         "yaxis": "y9"
        },
        {
         "marker": {
          "color": "#636EFA"
         },
         "showlegend": false,
         "text": [
          1.875,
          0.14,
          2.721,
          0.057,
          0.001,
          15.845,
          0.005,
          0.004,
          0.003,
          0.003,
          0.003,
          0.003,
          0.003,
          0.003,
          0.003,
          0.004
         ],
         "textangle": 0,
         "textfont": {
          "size": 14
         },
         "textposition": "inside",
         "texttemplate": "%{text:.2f}",
         "type": "bar",
         "x": [
          "StackingClassifier",
          "Bagging",
          "GB",
          "SE",
          "E2E",
          "SMCL",
          "Ind.",
          "GNLC λ = 0.1",
          "GNLC λ = 0.2",
          "GNLC λ = 0.3",
          "GNLC λ = 0.4",
          "GNLC λ = 0.5",
          "GNLC λ = 0.6",
          "GNLC λ = 0.7",
          "GNLC λ = 0.8",
          "GNLC λ = 0.9"
         ],
         "xaxis": "x12",
         "y": [
          1.875,
          0.14,
          2.721,
          0.057,
          0.001,
          15.845,
          0.005,
          0.004,
          0.003,
          0.003,
          0.003,
          0.003,
          0.003,
          0.003,
          0.003,
          0.004
         ],
         "yaxis": "y12"
        }
       ],
       "layout": {
        "annotations": [
         {
          "font": {
           "size": 16
          },
          "showarrow": false,
          "text": "Small Binary",
          "x": 0.15666666666666665,
          "xanchor": "center",
          "xref": "paper",
          "y": 0.9999999999999999,
          "yanchor": "bottom",
          "yref": "paper"
         },
         {
          "font": {
           "size": 16
          },
          "showarrow": false,
          "text": "Small Float",
          "x": 0.4999999999999999,
          "xanchor": "center",
          "xref": "paper",
          "y": 0.9999999999999999,
          "yanchor": "bottom",
          "yref": "paper"
         },
         {
          "font": {
           "size": 16
          },
          "showarrow": false,
          "text": "Large Float",
          "x": 0.8433333333333332,
          "xanchor": "center",
          "xref": "paper",
          "y": 0.9999999999999999,
          "yanchor": "bottom",
          "yref": "paper"
         }
        ],
        "height": 700,
        "legend": {
         "orientation": "h",
         "x": 0.1,
         "xanchor": "left",
         "y": -0.1,
         "yanchor": "bottom"
        },
        "margin": {
         "b": 5,
         "l": 5,
         "r": 20,
         "t": 20
        },
        "shapes": [
         {
          "line": {
           "color": "Dark Grey",
           "dash": "dashdot",
           "width": 1
          },
          "type": "line",
          "x0": -0.5,
          "x1": 15.5,
          "xref": "x",
          "y0": 33.691,
          "y1": 33.691,
          "yref": "y"
         },
         {
          "line": {
           "color": "Dark Grey",
           "dash": "dashdot",
           "width": 1
          },
          "type": "line",
          "x0": -0.5,
          "x1": 15.5,
          "xref": "x10",
          "y0": 2.621,
          "y1": 2.621,
          "yref": "y10"
         },
         {
          "line": {
           "color": "Dark Grey",
           "dash": "dashdot",
           "width": 1
          },
          "type": "line",
          "x0": -0.5,
          "x1": 15.5,
          "xref": "x2",
          "y0": 56.865,
          "y1": 56.865,
          "yref": "y2"
         },
         {
          "line": {
           "color": "Dark Grey",
           "dash": "dashdot",
           "width": 1
          },
          "type": "line",
          "x0": -0.5,
          "x1": 15.5,
          "xref": "x11",
          "y0": 1.142,
          "y1": 1.142,
          "yref": "y11"
         },
         {
          "line": {
           "color": "Dark Grey",
           "dash": "dashdot",
           "width": 1
          },
          "type": "line",
          "x0": -0.5,
          "x1": 15.5,
          "xref": "x3",
          "y0": 64.707,
          "y1": 64.707,
          "yref": "y3"
         },
         {
          "line": {
           "color": "Dark Grey",
           "dash": "dashdot",
           "width": 1
          },
          "type": "line",
          "x0": -0.5,
          "x1": 15.5,
          "xref": "x12",
          "y0": 0.116,
          "y1": 0.116,
          "yref": "y12"
         }
        ],
        "template": {
         "data": {
          "bar": [
           {
            "error_x": {
             "color": "rgb(36,36,36)"
            },
            "error_y": {
             "color": "rgb(36,36,36)"
            },
            "marker": {
             "line": {
              "color": "white",
              "width": 0.5
             }
            },
            "type": "bar"
           }
          ],
          "barpolar": [
           {
            "marker": {
             "line": {
              "color": "white",
              "width": 0.5
             }
            },
            "type": "barpolar"
           }
          ],
          "carpet": [
           {
            "aaxis": {
             "endlinecolor": "rgb(36,36,36)",
             "gridcolor": "white",
             "linecolor": "white",
             "minorgridcolor": "white",
             "startlinecolor": "rgb(36,36,36)"
            },
            "baxis": {
             "endlinecolor": "rgb(36,36,36)",
             "gridcolor": "white",
             "linecolor": "white",
             "minorgridcolor": "white",
             "startlinecolor": "rgb(36,36,36)"
            },
            "type": "carpet"
           }
          ],
          "choropleth": [
           {
            "colorbar": {
             "outlinewidth": 1,
             "tickcolor": "rgb(36,36,36)",
             "ticks": "outside"
            },
            "type": "choropleth"
           }
          ],
          "contour": [
           {
            "colorbar": {
             "outlinewidth": 1,
             "tickcolor": "rgb(36,36,36)",
             "ticks": "outside"
            },
            "colorscale": [
             [
              0,
              "#440154"
             ],
             [
              0.1111111111111111,
              "#482878"
             ],
             [
              0.2222222222222222,
              "#3e4989"
             ],
             [
              0.3333333333333333,
              "#31688e"
             ],
             [
              0.4444444444444444,
              "#26828e"
             ],
             [
              0.5555555555555556,
              "#1f9e89"
             ],
             [
              0.6666666666666666,
              "#35b779"
             ],
             [
              0.7777777777777778,
              "#6ece58"
             ],
             [
              0.8888888888888888,
              "#b5de2b"
             ],
             [
              1,
              "#fde725"
             ]
            ],
            "type": "contour"
           }
          ],
          "contourcarpet": [
           {
            "colorbar": {
             "outlinewidth": 1,
             "tickcolor": "rgb(36,36,36)",
             "ticks": "outside"
            },
            "type": "contourcarpet"
           }
          ],
          "heatmap": [
           {
            "colorbar": {
             "outlinewidth": 1,
             "tickcolor": "rgb(36,36,36)",
             "ticks": "outside"
            },
            "colorscale": [
             [
              0,
              "#440154"
             ],
             [
              0.1111111111111111,
              "#482878"
             ],
             [
              0.2222222222222222,
              "#3e4989"
             ],
             [
              0.3333333333333333,
              "#31688e"
             ],
             [
              0.4444444444444444,
              "#26828e"
             ],
             [
              0.5555555555555556,
              "#1f9e89"
             ],
             [
              0.6666666666666666,
              "#35b779"
             ],
             [
              0.7777777777777778,
              "#6ece58"
             ],
             [
              0.8888888888888888,
              "#b5de2b"
             ],
             [
              1,
              "#fde725"
             ]
            ],
            "type": "heatmap"
           }
          ],
          "heatmapgl": [
           {
            "colorbar": {
             "outlinewidth": 1,
             "tickcolor": "rgb(36,36,36)",
             "ticks": "outside"
            },
            "colorscale": [
             [
              0,
              "#440154"
             ],
             [
              0.1111111111111111,
              "#482878"
             ],
             [
              0.2222222222222222,
              "#3e4989"
             ],
             [
              0.3333333333333333,
              "#31688e"
             ],
             [
              0.4444444444444444,
              "#26828e"
             ],
             [
              0.5555555555555556,
              "#1f9e89"
             ],
             [
              0.6666666666666666,
              "#35b779"
             ],
             [
              0.7777777777777778,
              "#6ece58"
             ],
             [
              0.8888888888888888,
              "#b5de2b"
             ],
             [
              1,
              "#fde725"
             ]
            ],
            "type": "heatmapgl"
           }
          ],
          "histogram": [
           {
            "marker": {
             "line": {
              "color": "white",
              "width": 0.6
             }
            },
            "type": "histogram"
           }
          ],
          "histogram2d": [
           {
            "colorbar": {
             "outlinewidth": 1,
             "tickcolor": "rgb(36,36,36)",
             "ticks": "outside"
            },
            "colorscale": [
             [
              0,
              "#440154"
             ],
             [
              0.1111111111111111,
              "#482878"
             ],
             [
              0.2222222222222222,
              "#3e4989"
             ],
             [
              0.3333333333333333,
              "#31688e"
             ],
             [
              0.4444444444444444,
              "#26828e"
             ],
             [
              0.5555555555555556,
              "#1f9e89"
             ],
             [
              0.6666666666666666,
              "#35b779"
             ],
             [
              0.7777777777777778,
              "#6ece58"
             ],
             [
              0.8888888888888888,
              "#b5de2b"
             ],
             [
              1,
              "#fde725"
             ]
            ],
            "type": "histogram2d"
           }
          ],
          "histogram2dcontour": [
           {
            "colorbar": {
             "outlinewidth": 1,
             "tickcolor": "rgb(36,36,36)",
             "ticks": "outside"
            },
            "colorscale": [
             [
              0,
              "#440154"
             ],
             [
              0.1111111111111111,
              "#482878"
             ],
             [
              0.2222222222222222,
              "#3e4989"
             ],
             [
              0.3333333333333333,
              "#31688e"
             ],
             [
              0.4444444444444444,
              "#26828e"
             ],
             [
              0.5555555555555556,
              "#1f9e89"
             ],
             [
              0.6666666666666666,
              "#35b779"
             ],
             [
              0.7777777777777778,
              "#6ece58"
             ],
             [
              0.8888888888888888,
              "#b5de2b"
             ],
             [
              1,
              "#fde725"
             ]
            ],
            "type": "histogram2dcontour"
           }
          ],
          "mesh3d": [
           {
            "colorbar": {
             "outlinewidth": 1,
             "tickcolor": "rgb(36,36,36)",
             "ticks": "outside"
            },
            "type": "mesh3d"
           }
          ],
          "parcoords": [
           {
            "line": {
             "colorbar": {
              "outlinewidth": 1,
              "tickcolor": "rgb(36,36,36)",
              "ticks": "outside"
             }
            },
            "type": "parcoords"
           }
          ],
          "pie": [
           {
            "automargin": true,
            "type": "pie"
           }
          ],
          "scatter": [
           {
            "marker": {
             "colorbar": {
              "outlinewidth": 1,
              "tickcolor": "rgb(36,36,36)",
              "ticks": "outside"
             }
            },
            "type": "scatter"
           }
          ],
          "scatter3d": [
           {
            "line": {
             "colorbar": {
              "outlinewidth": 1,
              "tickcolor": "rgb(36,36,36)",
              "ticks": "outside"
             }
            },
            "marker": {
             "colorbar": {
              "outlinewidth": 1,
              "tickcolor": "rgb(36,36,36)",
              "ticks": "outside"
             }
            },
            "type": "scatter3d"
           }
          ],
          "scattercarpet": [
           {
            "marker": {
             "colorbar": {
              "outlinewidth": 1,
              "tickcolor": "rgb(36,36,36)",
              "ticks": "outside"
             }
            },
            "type": "scattercarpet"
           }
          ],
          "scattergeo": [
           {
            "marker": {
             "colorbar": {
              "outlinewidth": 1,
              "tickcolor": "rgb(36,36,36)",
              "ticks": "outside"
             }
            },
            "type": "scattergeo"
           }
          ],
          "scattergl": [
           {
            "marker": {
             "colorbar": {
              "outlinewidth": 1,
              "tickcolor": "rgb(36,36,36)",
              "ticks": "outside"
             }
            },
            "type": "scattergl"
           }
          ],
          "scattermapbox": [
           {
            "marker": {
             "colorbar": {
              "outlinewidth": 1,
              "tickcolor": "rgb(36,36,36)",
              "ticks": "outside"
             }
            },
            "type": "scattermapbox"
           }
          ],
          "scatterpolar": [
           {
            "marker": {
             "colorbar": {
              "outlinewidth": 1,
              "tickcolor": "rgb(36,36,36)",
              "ticks": "outside"
             }
            },
            "type": "scatterpolar"
           }
          ],
          "scatterpolargl": [
           {
            "marker": {
             "colorbar": {
              "outlinewidth": 1,
              "tickcolor": "rgb(36,36,36)",
              "ticks": "outside"
             }
            },
            "type": "scatterpolargl"
           }
          ],
          "scatterternary": [
           {
            "marker": {
             "colorbar": {
              "outlinewidth": 1,
              "tickcolor": "rgb(36,36,36)",
              "ticks": "outside"
             }
            },
            "type": "scatterternary"
           }
          ],
          "surface": [
           {
            "colorbar": {
             "outlinewidth": 1,
             "tickcolor": "rgb(36,36,36)",
             "ticks": "outside"
            },
            "colorscale": [
             [
              0,
              "#440154"
             ],
             [
              0.1111111111111111,
              "#482878"
             ],
             [
              0.2222222222222222,
              "#3e4989"
             ],
             [
              0.3333333333333333,
              "#31688e"
             ],
             [
              0.4444444444444444,
              "#26828e"
             ],
             [
              0.5555555555555556,
              "#1f9e89"
             ],
             [
              0.6666666666666666,
              "#35b779"
             ],
             [
              0.7777777777777778,
              "#6ece58"
             ],
             [
              0.8888888888888888,
              "#b5de2b"
             ],
             [
              1,
              "#fde725"
             ]
            ],
            "type": "surface"
           }
          ],
          "table": [
           {
            "cells": {
             "fill": {
              "color": "rgb(237,237,237)"
             },
             "line": {
              "color": "white"
             }
            },
            "header": {
             "fill": {
              "color": "rgb(217,217,217)"
             },
             "line": {
              "color": "white"
             }
            },
            "type": "table"
           }
          ]
         },
         "layout": {
          "annotationdefaults": {
           "arrowhead": 0,
           "arrowwidth": 1
          },
          "coloraxis": {
           "colorbar": {
            "outlinewidth": 1,
            "tickcolor": "rgb(36,36,36)",
            "ticks": "outside"
           }
          },
          "colorscale": {
           "diverging": [
            [
             0,
             "rgb(103,0,31)"
            ],
            [
             0.1,
             "rgb(178,24,43)"
            ],
            [
             0.2,
             "rgb(214,96,77)"
            ],
            [
             0.3,
             "rgb(244,165,130)"
            ],
            [
             0.4,
             "rgb(253,219,199)"
            ],
            [
             0.5,
             "rgb(247,247,247)"
            ],
            [
             0.6,
             "rgb(209,229,240)"
            ],
            [
             0.7,
             "rgb(146,197,222)"
            ],
            [
             0.8,
             "rgb(67,147,195)"
            ],
            [
             0.9,
             "rgb(33,102,172)"
            ],
            [
             1,
             "rgb(5,48,97)"
            ]
           ],
           "sequential": [
            [
             0,
             "#440154"
            ],
            [
             0.1111111111111111,
             "#482878"
            ],
            [
             0.2222222222222222,
             "#3e4989"
            ],
            [
             0.3333333333333333,
             "#31688e"
            ],
            [
             0.4444444444444444,
             "#26828e"
            ],
            [
             0.5555555555555556,
             "#1f9e89"
            ],
            [
             0.6666666666666666,
             "#35b779"
            ],
            [
             0.7777777777777778,
             "#6ece58"
            ],
            [
             0.8888888888888888,
             "#b5de2b"
            ],
            [
             1,
             "#fde725"
            ]
           ],
           "sequentialminus": [
            [
             0,
             "#440154"
            ],
            [
             0.1111111111111111,
             "#482878"
            ],
            [
             0.2222222222222222,
             "#3e4989"
            ],
            [
             0.3333333333333333,
             "#31688e"
            ],
            [
             0.4444444444444444,
             "#26828e"
            ],
            [
             0.5555555555555556,
             "#1f9e89"
            ],
            [
             0.6666666666666666,
             "#35b779"
            ],
            [
             0.7777777777777778,
             "#6ece58"
            ],
            [
             0.8888888888888888,
             "#b5de2b"
            ],
            [
             1,
             "#fde725"
            ]
           ]
          },
          "colorway": [
           "#1F77B4",
           "#FF7F0E",
           "#2CA02C",
           "#D62728",
           "#9467BD",
           "#8C564B",
           "#E377C2",
           "#7F7F7F",
           "#BCBD22",
           "#17BECF"
          ],
          "font": {
           "color": "rgb(36,36,36)"
          },
          "geo": {
           "bgcolor": "white",
           "lakecolor": "white",
           "landcolor": "white",
           "showlakes": true,
           "showland": true,
           "subunitcolor": "white"
          },
          "hoverlabel": {
           "align": "left"
          },
          "hovermode": "closest",
          "mapbox": {
           "style": "light"
          },
          "paper_bgcolor": "white",
          "plot_bgcolor": "white",
          "polar": {
           "angularaxis": {
            "gridcolor": "rgb(232,232,232)",
            "linecolor": "rgb(36,36,36)",
            "showgrid": false,
            "showline": true,
            "ticks": "outside"
           },
           "bgcolor": "white",
           "radialaxis": {
            "gridcolor": "rgb(232,232,232)",
            "linecolor": "rgb(36,36,36)",
            "showgrid": false,
            "showline": true,
            "ticks": "outside"
           }
          },
          "scene": {
           "xaxis": {
            "backgroundcolor": "white",
            "gridcolor": "rgb(232,232,232)",
            "gridwidth": 2,
            "linecolor": "rgb(36,36,36)",
            "showbackground": true,
            "showgrid": false,
            "showline": true,
            "ticks": "outside",
            "zeroline": false,
            "zerolinecolor": "rgb(36,36,36)"
           },
           "yaxis": {
            "backgroundcolor": "white",
            "gridcolor": "rgb(232,232,232)",
            "gridwidth": 2,
            "linecolor": "rgb(36,36,36)",
            "showbackground": true,
            "showgrid": false,
            "showline": true,
            "ticks": "outside",
            "zeroline": false,
            "zerolinecolor": "rgb(36,36,36)"
           },
           "zaxis": {
            "backgroundcolor": "white",
            "gridcolor": "rgb(232,232,232)",
            "gridwidth": 2,
            "linecolor": "rgb(36,36,36)",
            "showbackground": true,
            "showgrid": false,
            "showline": true,
            "ticks": "outside",
            "zeroline": false,
            "zerolinecolor": "rgb(36,36,36)"
           }
          },
          "shapedefaults": {
           "fillcolor": "black",
           "line": {
            "width": 0
           },
           "opacity": 0.3
          },
          "ternary": {
           "aaxis": {
            "gridcolor": "rgb(232,232,232)",
            "linecolor": "rgb(36,36,36)",
            "showgrid": false,
            "showline": true,
            "ticks": "outside"
           },
           "baxis": {
            "gridcolor": "rgb(232,232,232)",
            "linecolor": "rgb(36,36,36)",
            "showgrid": false,
            "showline": true,
            "ticks": "outside"
           },
           "bgcolor": "white",
           "caxis": {
            "gridcolor": "rgb(232,232,232)",
            "linecolor": "rgb(36,36,36)",
            "showgrid": false,
            "showline": true,
            "ticks": "outside"
           }
          },
          "title": {
           "x": 0.05
          },
          "xaxis": {
           "automargin": true,
           "gridcolor": "rgb(232,232,232)",
           "linecolor": "rgb(36,36,36)",
           "showgrid": false,
           "showline": true,
           "ticks": "outside",
           "title": {
            "standoff": 15
           },
           "zeroline": false,
           "zerolinecolor": "rgb(36,36,36)"
          },
          "yaxis": {
           "automargin": true,
           "gridcolor": "rgb(232,232,232)",
           "linecolor": "rgb(36,36,36)",
           "showgrid": false,
           "showline": true,
           "ticks": "outside",
           "title": {
            "standoff": 15
           },
           "zeroline": false,
           "zerolinecolor": "rgb(36,36,36)"
          }
         }
        },
        "width": 1200,
        "xaxis": {
         "anchor": "y",
         "categoryarray": [
          "SMCL",
          "GB",
          "SE",
          "Bagging",
          "Ind.",
          "GNLC λ = 0.1",
          "GNLC λ = 0.2",
          "GNLC λ = 0.3",
          "GNLC λ = 0.4",
          "GNLC λ = 0.5",
          "GNLC λ = 0.6",
          "GNLC λ = 0.7",
          "GNLC λ = 0.8",
          "GNLC λ = 0.9",
          "E2E"
         ],
         "domain": [
          0,
          0.3133333333333333
         ],
         "showticklabels": false
        },
        "xaxis10": {
         "anchor": "y10",
         "categoryarray": [
          "SMCL",
          "GB",
          "SE",
          "Bagging",
          "Ind.",
          "GNLC λ = 0.1",
          "GNLC λ = 0.2",
          "GNLC λ = 0.3",
          "GNLC λ = 0.4",
          "GNLC λ = 0.5",
          "GNLC λ = 0.6",
          "GNLC λ = 0.7",
          "GNLC λ = 0.8",
          "GNLC λ = 0.9",
          "E2E"
         ],
         "domain": [
          0,
          0.3133333333333333
         ],
         "tickangle": 45
        },
        "xaxis11": {
         "anchor": "y11",
         "categoryarray": [
          "SMCL",
          "GB",
          "SE",
          "Bagging",
          "Ind.",
          "GNLC λ = 0.1",
          "GNLC λ = 0.2",
          "GNLC λ = 0.3",
          "GNLC λ = 0.4",
          "GNLC λ = 0.5",
          "GNLC λ = 0.6",
          "GNLC λ = 0.7",
          "GNLC λ = 0.8",
          "GNLC λ = 0.9",
          "E2E"
         ],
         "domain": [
          0.34333333333333327,
          0.6566666666666665
         ],
         "tickangle": 45
        },
        "xaxis12": {
         "anchor": "y12",
         "categoryarray": [
          "SMCL",
          "GB",
          "SE",
          "Bagging",
          "Ind.",
          "GNLC λ = 0.1",
          "GNLC λ = 0.2",
          "GNLC λ = 0.3",
          "GNLC λ = 0.4",
          "GNLC λ = 0.5",
          "GNLC λ = 0.6",
          "GNLC λ = 0.7",
          "GNLC λ = 0.8",
          "GNLC λ = 0.9",
          "E2E"
         ],
         "domain": [
          0.6866666666666665,
          0.9999999999999998
         ],
         "tickangle": 45
        },
        "xaxis2": {
         "anchor": "y2",
         "categoryarray": [
          "SMCL",
          "GB",
          "SE",
          "Bagging",
          "Ind.",
          "GNLC λ = 0.1",
          "GNLC λ = 0.2",
          "GNLC λ = 0.3",
          "GNLC λ = 0.4",
          "GNLC λ = 0.5",
          "GNLC λ = 0.6",
          "GNLC λ = 0.7",
          "GNLC λ = 0.8",
          "GNLC λ = 0.9",
          "E2E"
         ],
         "domain": [
          0.34333333333333327,
          0.6566666666666665
         ],
         "showticklabels": false
        },
        "xaxis3": {
         "anchor": "y3",
         "categoryarray": [
          "SMCL",
          "GB",
          "SE",
          "Bagging",
          "Ind.",
          "GNLC λ = 0.1",
          "GNLC λ = 0.2",
          "GNLC λ = 0.3",
          "GNLC λ = 0.4",
          "GNLC λ = 0.5",
          "GNLC λ = 0.6",
          "GNLC λ = 0.7",
          "GNLC λ = 0.8",
          "GNLC λ = 0.9",
          "E2E"
         ],
         "domain": [
          0.6866666666666665,
          0.9999999999999998
         ],
         "showticklabels": false
        },
        "xaxis4": {
         "anchor": "y4",
         "categoryarray": [
          "SMCL",
          "GB",
          "SE",
          "Bagging",
          "Ind.",
          "GNLC λ = 0.1",
          "GNLC λ = 0.2",
          "GNLC λ = 0.3",
          "GNLC λ = 0.4",
          "GNLC λ = 0.5",
          "GNLC λ = 0.6",
          "GNLC λ = 0.7",
          "GNLC λ = 0.8",
          "GNLC λ = 0.9",
          "E2E"
         ],
         "domain": [
          0,
          0.3133333333333333
         ],
         "showticklabels": false
        },
        "xaxis5": {
         "anchor": "y5",
         "categoryarray": [
          "SMCL",
          "GB",
          "SE",
          "Bagging",
          "Ind.",
          "GNLC λ = 0.1",
          "GNLC λ = 0.2",
          "GNLC λ = 0.3",
          "GNLC λ = 0.4",
          "GNLC λ = 0.5",
          "GNLC λ = 0.6",
          "GNLC λ = 0.7",
          "GNLC λ = 0.8",
          "GNLC λ = 0.9",
          "E2E"
         ],
         "domain": [
          0.34333333333333327,
          0.6566666666666665
         ],
         "showticklabels": false
        },
        "xaxis6": {
         "anchor": "y6",
         "categoryarray": [
          "SMCL",
          "GB",
          "SE",
          "Bagging",
          "Ind.",
          "GNLC λ = 0.1",
          "GNLC λ = 0.2",
          "GNLC λ = 0.3",
          "GNLC λ = 0.4",
          "GNLC λ = 0.5",
          "GNLC λ = 0.6",
          "GNLC λ = 0.7",
          "GNLC λ = 0.8",
          "GNLC λ = 0.9",
          "E2E"
         ],
         "domain": [
          0.6866666666666665,
          0.9999999999999998
         ],
         "showticklabels": false
        },
        "xaxis7": {
         "anchor": "y7",
         "categoryarray": [
          "SMCL",
          "GB",
          "SE",
          "Bagging",
          "Ind.",
          "GNLC λ = 0.1",
          "GNLC λ = 0.2",
          "GNLC λ = 0.3",
          "GNLC λ = 0.4",
          "GNLC λ = 0.5",
          "GNLC λ = 0.6",
          "GNLC λ = 0.7",
          "GNLC λ = 0.8",
          "GNLC λ = 0.9",
          "E2E"
         ],
         "domain": [
          0,
          0.3133333333333333
         ],
         "showticklabels": false
        },
        "xaxis8": {
         "anchor": "y8",
         "categoryarray": [
          "SMCL",
          "GB",
          "SE",
          "Bagging",
          "Ind.",
          "GNLC λ = 0.1",
          "GNLC λ = 0.2",
          "GNLC λ = 0.3",
          "GNLC λ = 0.4",
          "GNLC λ = 0.5",
          "GNLC λ = 0.6",
          "GNLC λ = 0.7",
          "GNLC λ = 0.8",
          "GNLC λ = 0.9",
          "E2E"
         ],
         "domain": [
          0.34333333333333327,
          0.6566666666666665
         ],
         "showticklabels": false
        },
        "xaxis9": {
         "anchor": "y9",
         "categoryarray": [
          "SMCL",
          "GB",
          "SE",
          "Bagging",
          "Ind.",
          "GNLC λ = 0.1",
          "GNLC λ = 0.2",
          "GNLC λ = 0.3",
          "GNLC λ = 0.4",
          "GNLC λ = 0.5",
          "GNLC λ = 0.6",
          "GNLC λ = 0.7",
          "GNLC λ = 0.8",
          "GNLC λ = 0.9",
          "E2E"
         ],
         "domain": [
          0.6866666666666665,
          0.9999999999999998
         ],
         "showticklabels": false
        },
        "yaxis": {
         "anchor": "x",
         "domain": [
          0.7649999999999999,
          0.9999999999999999
         ],
         "dtick": 10,
         "tick0": 0,
         "tickmode": "linear",
         "title": {
          "font": {
           "size": 14
          },
          "standoff": 25,
          "text": "Accuracy"
         }
        },
        "yaxis10": {
         "anchor": "x10",
         "domain": [
          0,
          0.235
         ],
         "title": {
          "font": {
           "size": 14
          },
          "text": "Train loss"
         },
         "type": "log"
        },
        "yaxis11": {
         "anchor": "x11",
         "domain": [
          0,
          0.235
         ],
         "type": "log"
        },
        "yaxis12": {
         "anchor": "x12",
         "domain": [
          0,
          0.235
         ],
         "type": "log"
        },
        "yaxis2": {
         "anchor": "x2",
         "domain": [
          0.7649999999999999,
          0.9999999999999999
         ],
         "dtick": 10,
         "tick0": 0,
         "tickmode": "linear"
        },
        "yaxis3": {
         "anchor": "x3",
         "domain": [
          0.7649999999999999,
          0.9999999999999999
         ],
         "dtick": 10,
         "tick0": 0,
         "tickmode": "linear"
        },
        "yaxis4": {
         "anchor": "x4",
         "domain": [
          0.51,
          0.745
         ],
         "title": {
          "font": {
           "size": 14
          },
          "text": "Diversity"
         },
         "type": "log"
        },
        "yaxis5": {
         "anchor": "x5",
         "domain": [
          0.51,
          0.745
         ],
         "type": "log"
        },
        "yaxis6": {
         "anchor": "x6",
         "domain": [
          0.51,
          0.745
         ],
         "type": "log"
        },
        "yaxis7": {
         "anchor": "x7",
         "domain": [
          0.255,
          0.49
         ],
         "dtick": 10,
         "tick0": 0,
         "tickmode": "linear",
         "title": {
          "font": {
           "size": 14
          },
          "text": "Average accuracy"
         }
        },
        "yaxis8": {
         "anchor": "x8",
         "domain": [
          0.255,
          0.49
         ],
         "dtick": 10,
         "tick0": 0,
         "tickmode": "linear"
        },
        "yaxis9": {
         "anchor": "x9",
         "domain": [
          0.255,
          0.49
         ],
         "dtick": 10,
         "tick0": 0,
         "tickmode": "linear"
        }
       }
      },
      "text/html": "<div>\n        \n        \n            <div id=\"056e8728-1002-4104-94c6-d891faef4608\" class=\"plotly-graph-div\" style=\"height:700px; width:1200px;\"></div>\n            <script type=\"text/javascript\">\n                require([\"plotly\"], function(Plotly) {\n                    window.PLOTLYENV=window.PLOTLYENV || {};\n                    \n                if (document.getElementById(\"056e8728-1002-4104-94c6-d891faef4608\")) {\n                    Plotly.newPlot(\n                        '056e8728-1002-4104-94c6-d891faef4608',\n                        [{\"marker\": {\"color\": \"#636EFA\"}, \"showlegend\": false, \"text\": [60.508, 50.313, 42.256, 50.957, 58.662, 0.967, 48.613, 49.492, 50.615, 51.709, 52.764, 54.297, 56.27, 59.648, 59.102, 59.971], \"textangle\": 0, \"textfont\": {\"size\": 14}, \"textposition\": \"inside\", \"texttemplate\": \"%{text:.2f}\", \"type\": \"bar\", \"x\": [\"StackingClassifier\", \"Bagging\", \"GB\", \"SE\", \"E2E\", \"SMCL\", \"Ind.\", \"GNLC \\u03bb = 0.1\", \"GNLC \\u03bb = 0.2\", \"GNLC \\u03bb = 0.3\", \"GNLC \\u03bb = 0.4\", \"GNLC \\u03bb = 0.5\", \"GNLC \\u03bb = 0.6\", \"GNLC \\u03bb = 0.7\", \"GNLC \\u03bb = 0.8\", \"GNLC \\u03bb = 0.9\"], \"xaxis\": \"x\", \"y\": [60.508, 50.313, 42.256, 50.957, 58.662, 0.967, 48.613, 49.492, 50.615, 51.709, 52.764, 54.297, 56.27, 59.648, 59.102, 59.971], \"yaxis\": \"y\"}, {\"marker\": {\"color\": \"#636EFA\"}, \"showlegend\": false, \"text\": [11.58, 0.634, 0.345, 26.391, 47.886, 0.908, 0.665, 0.724, 0.742, 0.793, 0.999, 1.186, 1.502, 2.45, 3.774, 7.804], \"textangle\": 0, \"textfont\": {\"size\": 14}, \"textposition\": \"inside\", \"texttemplate\": \"%{text:.2f}\", \"type\": \"bar\", \"x\": [\"StackingClassifier\", \"Bagging\", \"GB\", \"SE\", \"E2E\", \"SMCL\", \"Ind.\", \"GNLC \\u03bb = 0.1\", \"GNLC \\u03bb = 0.2\", \"GNLC \\u03bb = 0.3\", \"GNLC \\u03bb = 0.4\", \"GNLC \\u03bb = 0.5\", \"GNLC \\u03bb = 0.6\", \"GNLC \\u03bb = 0.7\", \"GNLC \\u03bb = 0.8\", \"GNLC \\u03bb = 0.9\"], \"xaxis\": \"x4\", \"y\": [11.58, 0.634, 0.345, 26.391, 47.886, 0.908, 0.665, 0.724, 0.742, 0.793, 0.999, 1.186, 1.502, 2.45, 3.774, 7.804], \"yaxis\": \"y4\"}, {\"marker\": {\"color\": \"#636EFA\"}, \"showlegend\": false, \"text\": [0.969, 35.001, 4.342, 5.73, 4.365, 5.514, 34.208, 34.083, 35.039, 34.716, 33.826, 32.917, 31.225, 29.158, 23.757, 15.745], \"textangle\": 0, \"textfont\": {\"size\": 14}, \"textposition\": \"inside\", \"texttemplate\": \"%{text:.2f}\", \"type\": \"bar\", \"x\": [\"StackingClassifier\", \"Bagging\", \"GB\", \"SE\", \"E2E\", \"SMCL\", \"Ind.\", \"GNLC \\u03bb = 0.1\", \"GNLC \\u03bb = 0.2\", \"GNLC \\u03bb = 0.3\", \"GNLC \\u03bb = 0.4\", \"GNLC \\u03bb = 0.5\", \"GNLC \\u03bb = 0.6\", \"GNLC \\u03bb = 0.7\", \"GNLC \\u03bb = 0.8\", \"GNLC \\u03bb = 0.9\"], \"xaxis\": \"x7\", \"y\": [0.969, 35.001, 4.342, 5.73, 4.365, 5.514, 34.208, 34.083, 35.039, 34.716, 33.826, 32.917, 31.225, 29.158, 23.757, 15.745], \"yaxis\": \"y7\"}, {\"marker\": {\"color\": \"#636EFA\"}, \"showlegend\": false, \"text\": [0.586, 1.905, 4.117, 1.699, 0.734, 71.756, 1.923, 1.89, 1.828, 1.8, 1.695, 1.62, 1.537, 1.333, 1.261, 1.016], \"textangle\": 0, \"textfont\": {\"size\": 14}, \"textposition\": \"inside\", \"texttemplate\": \"%{text:.2f}\", \"type\": \"bar\", \"x\": [\"StackingClassifier\", \"Bagging\", \"GB\", \"SE\", \"E2E\", \"SMCL\", \"Ind.\", \"GNLC \\u03bb = 0.1\", \"GNLC \\u03bb = 0.2\", \"GNLC \\u03bb = 0.3\", \"GNLC \\u03bb = 0.4\", \"GNLC \\u03bb = 0.5\", \"GNLC \\u03bb = 0.6\", \"GNLC \\u03bb = 0.7\", \"GNLC \\u03bb = 0.8\", \"GNLC \\u03bb = 0.9\"], \"xaxis\": \"x10\", \"y\": [0.586, 1.905, 4.117, 1.699, 0.734, 71.756, 1.923, 1.89, 1.828, 1.8, 1.695, 1.62, 1.537, 1.333, 1.261, 1.016], \"yaxis\": \"y10\"}, {\"marker\": {\"color\": \"#636EFA\"}, \"showlegend\": false, \"text\": [61.396, 63.535, 57.285, 61.113, 66.787, 36.65, 67.158, 68.018, 68.203, 68.242, 69.365, 69.59, 70.518, 70.537, 70.811, 69.678], \"textangle\": 0, \"textfont\": {\"size\": 14}, \"textposition\": \"inside\", \"texttemplate\": \"%{text:.2f}\", \"type\": \"bar\", \"x\": [\"StackingClassifier\", \"Bagging\", \"GB\", \"SE\", \"E2E\", \"SMCL\", \"Ind.\", \"GNLC \\u03bb = 0.1\", \"GNLC \\u03bb = 0.2\", \"GNLC \\u03bb = 0.3\", \"GNLC \\u03bb = 0.4\", \"GNLC \\u03bb = 0.5\", \"GNLC \\u03bb = 0.6\", \"GNLC \\u03bb = 0.7\", \"GNLC \\u03bb = 0.8\", \"GNLC \\u03bb = 0.9\"], \"xaxis\": \"x2\", \"y\": [61.396, 63.535, 57.285, 61.113, 66.787, 36.65, 67.158, 68.018, 68.203, 68.242, 69.365, 69.59, 70.518, 70.537, 70.811, 69.678], \"yaxis\": \"y2\"}, {\"marker\": {\"color\": \"#636EFA\"}, \"showlegend\": false, \"text\": [0.05, 0.668, 0.919, 21.088, 109.781, 7.973, 0.471, 0.524, 0.601, 0.686, 0.821, 1.048, 1.441, 2.447, 4.024, 7.078], \"textangle\": 0, \"textfont\": {\"size\": 14}, \"textposition\": \"inside\", \"texttemplate\": \"%{text:.2f}\", \"type\": \"bar\", \"x\": [\"StackingClassifier\", \"Bagging\", \"GB\", \"SE\", \"E2E\", \"SMCL\", \"Ind.\", \"GNLC \\u03bb = 0.1\", \"GNLC \\u03bb = 0.2\", \"GNLC \\u03bb = 0.3\", \"GNLC \\u03bb = 0.4\", \"GNLC \\u03bb = 0.5\", \"GNLC \\u03bb = 0.6\", \"GNLC \\u03bb = 0.7\", \"GNLC \\u03bb = 0.8\", \"GNLC \\u03bb = 0.9\"], \"xaxis\": \"x5\", \"y\": [0.05, 0.668, 0.919, 21.088, 109.781, 7.973, 0.471, 0.524, 0.601, 0.686, 0.821, 1.048, 1.441, 2.447, 4.024, 7.078], \"yaxis\": \"y5\"}, {\"marker\": {\"color\": \"#636EFA\"}, \"showlegend\": false, \"text\": [0.964, 50.77, 4.413, 9.168, 4.403, 5.596, 56.924, 56.571, 55.526, 54.645, 53.525, 51.294, 48.584, 43.8, 37.755, 28.594], \"textangle\": 0, \"textfont\": {\"size\": 14}, \"textposition\": \"inside\", \"texttemplate\": \"%{text:.2f}\", \"type\": \"bar\", \"x\": [\"StackingClassifier\", \"Bagging\", \"GB\", \"SE\", \"E2E\", \"SMCL\", \"Ind.\", \"GNLC \\u03bb = 0.1\", \"GNLC \\u03bb = 0.2\", \"GNLC \\u03bb = 0.3\", \"GNLC \\u03bb = 0.4\", \"GNLC \\u03bb = 0.5\", \"GNLC \\u03bb = 0.6\", \"GNLC \\u03bb = 0.7\", \"GNLC \\u03bb = 0.8\", \"GNLC \\u03bb = 0.9\"], \"xaxis\": \"x8\", \"y\": [0.964, 50.77, 4.413, 9.168, 4.403, 5.596, 56.924, 56.571, 55.526, 54.645, 53.525, 51.294, 48.584, 43.8, 37.755, 28.594], \"yaxis\": \"y8\"}, {\"marker\": {\"color\": \"#636EFA\"}, \"showlegend\": false, \"text\": [0.45, 0.947, 3.812, 0.887, 0.014, 6.328, 0.753, 0.71, 0.667, 0.625, 0.561, 0.495, 0.398, 0.287, 0.185, 0.104], \"textangle\": 0, \"textfont\": {\"size\": 14}, \"textposition\": \"inside\", \"texttemplate\": \"%{text:.2f}\", \"type\": \"bar\", \"x\": [\"StackingClassifier\", \"Bagging\", \"GB\", \"SE\", \"E2E\", \"SMCL\", \"Ind.\", \"GNLC \\u03bb = 0.1\", \"GNLC \\u03bb = 0.2\", \"GNLC \\u03bb = 0.3\", \"GNLC \\u03bb = 0.4\", \"GNLC \\u03bb = 0.5\", \"GNLC \\u03bb = 0.6\", \"GNLC \\u03bb = 0.7\", \"GNLC \\u03bb = 0.8\", \"GNLC \\u03bb = 0.9\"], \"xaxis\": \"x11\", \"y\": [0.45, 0.947, 3.812, 0.887, 0.014, 6.328, 0.753, 0.71, 0.667, 0.625, 0.561, 0.495, 0.398, 0.287, 0.185, 0.104], \"yaxis\": \"y11\"}, {\"marker\": {\"color\": \"#636EFA\"}, \"showlegend\": false, \"text\": [47.344, 70.527, 64.355, 65.01, 70.449, 30.742, 75.41, 75.0, 75.137, 75.117, 75.0, 74.951, 74.57, 74.717, 74.492, 74.189], \"textangle\": 0, \"textfont\": {\"size\": 14}, \"textposition\": \"inside\", \"texttemplate\": \"%{text:.2f}\", \"type\": \"bar\", \"x\": [\"StackingClassifier\", \"Bagging\", \"GB\", \"SE\", \"E2E\", \"SMCL\", \"Ind.\", \"GNLC \\u03bb = 0.1\", \"GNLC \\u03bb = 0.2\", \"GNLC \\u03bb = 0.3\", \"GNLC \\u03bb = 0.4\", \"GNLC \\u03bb = 0.5\", \"GNLC \\u03bb = 0.6\", \"GNLC \\u03bb = 0.7\", \"GNLC \\u03bb = 0.8\", \"GNLC \\u03bb = 0.9\"], \"xaxis\": \"x3\", \"y\": [47.344, 70.527, 64.355, 65.01, 70.449, 30.742, 75.41, 75.0, 75.137, 75.117, 75.0, 74.951, 74.57, 74.717, 74.492, 74.189], \"yaxis\": \"y3\"}, {\"marker\": {\"color\": \"#636EFA\"}, \"showlegend\": false, \"text\": [0.007, 1.625, 6.327, 23.741, 83.407, 7.801, 1.18, 1.204, 1.248, 1.337, 1.357, 1.406, 1.527, 1.804, 2.495, 3.915], \"textangle\": 0, \"textfont\": {\"size\": 14}, \"textposition\": \"inside\", \"texttemplate\": \"%{text:.2f}\", \"type\": \"bar\", \"x\": [\"StackingClassifier\", \"Bagging\", \"GB\", \"SE\", \"E2E\", \"SMCL\", \"Ind.\", \"GNLC \\u03bb = 0.1\", \"GNLC \\u03bb = 0.2\", \"GNLC \\u03bb = 0.3\", \"GNLC \\u03bb = 0.4\", \"GNLC \\u03bb = 0.5\", \"GNLC \\u03bb = 0.6\", \"GNLC \\u03bb = 0.7\", \"GNLC \\u03bb = 0.8\", \"GNLC \\u03bb = 0.9\"], \"xaxis\": \"x6\", \"y\": [0.007, 1.625, 6.327, 23.741, 83.407, 7.801, 1.18, 1.204, 1.248, 1.337, 1.357, 1.406, 1.527, 1.804, 2.495, 3.915], \"yaxis\": \"y6\"}, {\"marker\": {\"color\": \"#636EFA\"}, \"showlegend\": false, \"text\": [1.107, 56.828, 4.838, 13.253, 6.256, 5.681, 64.848, 64.323, 64.207, 63.697, 63.303, 62.795, 61.504, 59.045, 54.977, 47.22], \"textangle\": 0, \"textfont\": {\"size\": 14}, \"textposition\": \"inside\", \"texttemplate\": \"%{text:.2f}\", \"type\": \"bar\", \"x\": [\"StackingClassifier\", \"Bagging\", \"GB\", \"SE\", \"E2E\", \"SMCL\", \"Ind.\", \"GNLC \\u03bb = 0.1\", \"GNLC \\u03bb = 0.2\", \"GNLC \\u03bb = 0.3\", \"GNLC \\u03bb = 0.4\", \"GNLC \\u03bb = 0.5\", \"GNLC \\u03bb = 0.6\", \"GNLC \\u03bb = 0.7\", \"GNLC \\u03bb = 0.8\", \"GNLC \\u03bb = 0.9\"], \"xaxis\": \"x9\", \"y\": [1.107, 56.828, 4.838, 13.253, 6.256, 5.681, 64.848, 64.323, 64.207, 63.697, 63.303, 62.795, 61.504, 59.045, 54.977, 47.22], \"yaxis\": \"y9\"}, {\"marker\": {\"color\": \"#636EFA\"}, \"showlegend\": false, \"text\": [1.875, 0.14, 2.721, 0.057, 0.001, 15.845, 0.005, 0.004, 0.003, 0.003, 0.003, 0.003, 0.003, 0.003, 0.003, 0.004], \"textangle\": 0, \"textfont\": {\"size\": 14}, \"textposition\": \"inside\", \"texttemplate\": \"%{text:.2f}\", \"type\": \"bar\", \"x\": [\"StackingClassifier\", \"Bagging\", \"GB\", \"SE\", \"E2E\", \"SMCL\", \"Ind.\", \"GNLC \\u03bb = 0.1\", \"GNLC \\u03bb = 0.2\", \"GNLC \\u03bb = 0.3\", \"GNLC \\u03bb = 0.4\", \"GNLC \\u03bb = 0.5\", \"GNLC \\u03bb = 0.6\", \"GNLC \\u03bb = 0.7\", \"GNLC \\u03bb = 0.8\", \"GNLC \\u03bb = 0.9\"], \"xaxis\": \"x12\", \"y\": [1.875, 0.14, 2.721, 0.057, 0.001, 15.845, 0.005, 0.004, 0.003, 0.003, 0.003, 0.003, 0.003, 0.003, 0.003, 0.004], \"yaxis\": \"y12\"}],\n                        {\"annotations\": [{\"font\": {\"size\": 16}, \"showarrow\": false, \"text\": \"Small Binary\", \"x\": 0.15666666666666665, \"xanchor\": \"center\", \"xref\": \"paper\", \"y\": 0.9999999999999999, \"yanchor\": \"bottom\", \"yref\": \"paper\"}, {\"font\": {\"size\": 16}, \"showarrow\": false, \"text\": \"Small Float\", \"x\": 0.4999999999999999, \"xanchor\": \"center\", \"xref\": \"paper\", \"y\": 0.9999999999999999, \"yanchor\": \"bottom\", \"yref\": \"paper\"}, {\"font\": {\"size\": 16}, \"showarrow\": false, \"text\": \"Large Float\", \"x\": 0.8433333333333332, \"xanchor\": \"center\", \"xref\": \"paper\", \"y\": 0.9999999999999999, \"yanchor\": \"bottom\", \"yref\": \"paper\"}], \"height\": 700, \"legend\": {\"orientation\": \"h\", \"x\": 0.1, \"xanchor\": \"left\", \"y\": -0.1, \"yanchor\": \"bottom\"}, \"margin\": {\"b\": 5, \"l\": 5, \"r\": 20, \"t\": 20}, \"shapes\": [{\"line\": {\"color\": \"Dark Grey\", \"dash\": \"dashdot\", \"width\": 1}, \"type\": \"line\", \"x0\": -0.5, \"x1\": 15.5, \"xref\": \"x\", \"y0\": 33.691, \"y1\": 33.691, \"yref\": \"y\"}, {\"line\": {\"color\": \"Dark Grey\", \"dash\": \"dashdot\", \"width\": 1}, \"type\": \"line\", \"x0\": -0.5, \"x1\": 15.5, \"xref\": \"x10\", \"y0\": 2.621, \"y1\": 2.621, \"yref\": \"y10\"}, {\"line\": {\"color\": \"Dark Grey\", \"dash\": \"dashdot\", \"width\": 1}, \"type\": \"line\", \"x0\": -0.5, \"x1\": 15.5, \"xref\": \"x2\", \"y0\": 56.865, \"y1\": 56.865, \"yref\": \"y2\"}, {\"line\": {\"color\": \"Dark Grey\", \"dash\": \"dashdot\", \"width\": 1}, \"type\": \"line\", \"x0\": -0.5, \"x1\": 15.5, \"xref\": \"x11\", \"y0\": 1.142, \"y1\": 1.142, \"yref\": \"y11\"}, {\"line\": {\"color\": \"Dark Grey\", \"dash\": \"dashdot\", \"width\": 1}, \"type\": \"line\", \"x0\": -0.5, \"x1\": 15.5, \"xref\": \"x3\", \"y0\": 64.707, \"y1\": 64.707, \"yref\": \"y3\"}, {\"line\": {\"color\": \"Dark Grey\", \"dash\": \"dashdot\", \"width\": 1}, \"type\": \"line\", \"x0\": -0.5, \"x1\": 15.5, \"xref\": \"x12\", \"y0\": 0.116, \"y1\": 0.116, \"yref\": \"y12\"}], \"template\": {\"data\": {\"bar\": [{\"error_x\": {\"color\": \"rgb(36,36,36)\"}, \"error_y\": {\"color\": \"rgb(36,36,36)\"}, \"marker\": {\"line\": {\"color\": \"white\", \"width\": 0.5}}, \"type\": \"bar\"}], \"barpolar\": [{\"marker\": {\"line\": {\"color\": \"white\", \"width\": 0.5}}, \"type\": \"barpolar\"}], \"carpet\": [{\"aaxis\": {\"endlinecolor\": \"rgb(36,36,36)\", \"gridcolor\": \"white\", \"linecolor\": \"white\", \"minorgridcolor\": \"white\", \"startlinecolor\": \"rgb(36,36,36)\"}, \"baxis\": {\"endlinecolor\": \"rgb(36,36,36)\", \"gridcolor\": \"white\", \"linecolor\": \"white\", \"minorgridcolor\": \"white\", \"startlinecolor\": \"rgb(36,36,36)\"}, \"type\": \"carpet\"}], \"choropleth\": [{\"colorbar\": {\"outlinewidth\": 1, \"tickcolor\": \"rgb(36,36,36)\", \"ticks\": \"outside\"}, \"type\": \"choropleth\"}], \"contour\": [{\"colorbar\": {\"outlinewidth\": 1, \"tickcolor\": \"rgb(36,36,36)\", \"ticks\": \"outside\"}, \"colorscale\": [[0.0, \"#440154\"], [0.1111111111111111, \"#482878\"], [0.2222222222222222, \"#3e4989\"], [0.3333333333333333, \"#31688e\"], [0.4444444444444444, \"#26828e\"], [0.5555555555555556, \"#1f9e89\"], [0.6666666666666666, \"#35b779\"], [0.7777777777777778, \"#6ece58\"], [0.8888888888888888, \"#b5de2b\"], [1.0, \"#fde725\"]], \"type\": \"contour\"}], \"contourcarpet\": [{\"colorbar\": {\"outlinewidth\": 1, \"tickcolor\": \"rgb(36,36,36)\", \"ticks\": \"outside\"}, \"type\": \"contourcarpet\"}], \"heatmap\": [{\"colorbar\": {\"outlinewidth\": 1, \"tickcolor\": \"rgb(36,36,36)\", \"ticks\": \"outside\"}, \"colorscale\": [[0.0, \"#440154\"], [0.1111111111111111, \"#482878\"], [0.2222222222222222, \"#3e4989\"], [0.3333333333333333, \"#31688e\"], [0.4444444444444444, \"#26828e\"], [0.5555555555555556, \"#1f9e89\"], [0.6666666666666666, \"#35b779\"], [0.7777777777777778, \"#6ece58\"], [0.8888888888888888, \"#b5de2b\"], [1.0, \"#fde725\"]], \"type\": \"heatmap\"}], \"heatmapgl\": [{\"colorbar\": {\"outlinewidth\": 1, \"tickcolor\": \"rgb(36,36,36)\", \"ticks\": \"outside\"}, \"colorscale\": [[0.0, \"#440154\"], [0.1111111111111111, \"#482878\"], [0.2222222222222222, \"#3e4989\"], [0.3333333333333333, \"#31688e\"], [0.4444444444444444, \"#26828e\"], [0.5555555555555556, \"#1f9e89\"], [0.6666666666666666, \"#35b779\"], [0.7777777777777778, \"#6ece58\"], [0.8888888888888888, \"#b5de2b\"], [1.0, \"#fde725\"]], \"type\": \"heatmapgl\"}], \"histogram\": [{\"marker\": {\"line\": {\"color\": \"white\", \"width\": 0.6}}, \"type\": \"histogram\"}], \"histogram2d\": [{\"colorbar\": {\"outlinewidth\": 1, \"tickcolor\": \"rgb(36,36,36)\", \"ticks\": \"outside\"}, \"colorscale\": [[0.0, \"#440154\"], [0.1111111111111111, \"#482878\"], [0.2222222222222222, \"#3e4989\"], [0.3333333333333333, \"#31688e\"], [0.4444444444444444, \"#26828e\"], [0.5555555555555556, \"#1f9e89\"], [0.6666666666666666, \"#35b779\"], [0.7777777777777778, \"#6ece58\"], [0.8888888888888888, \"#b5de2b\"], [1.0, \"#fde725\"]], \"type\": \"histogram2d\"}], \"histogram2dcontour\": [{\"colorbar\": {\"outlinewidth\": 1, \"tickcolor\": \"rgb(36,36,36)\", \"ticks\": \"outside\"}, \"colorscale\": [[0.0, \"#440154\"], [0.1111111111111111, \"#482878\"], [0.2222222222222222, \"#3e4989\"], [0.3333333333333333, \"#31688e\"], [0.4444444444444444, \"#26828e\"], [0.5555555555555556, \"#1f9e89\"], [0.6666666666666666, \"#35b779\"], [0.7777777777777778, \"#6ece58\"], [0.8888888888888888, \"#b5de2b\"], [1.0, \"#fde725\"]], \"type\": \"histogram2dcontour\"}], \"mesh3d\": [{\"colorbar\": {\"outlinewidth\": 1, \"tickcolor\": \"rgb(36,36,36)\", \"ticks\": \"outside\"}, \"type\": \"mesh3d\"}], \"parcoords\": [{\"line\": {\"colorbar\": {\"outlinewidth\": 1, \"tickcolor\": \"rgb(36,36,36)\", \"ticks\": \"outside\"}}, \"type\": \"parcoords\"}], \"pie\": [{\"automargin\": true, \"type\": \"pie\"}], \"scatter\": [{\"marker\": {\"colorbar\": {\"outlinewidth\": 1, \"tickcolor\": \"rgb(36,36,36)\", \"ticks\": \"outside\"}}, \"type\": \"scatter\"}], \"scatter3d\": [{\"line\": {\"colorbar\": {\"outlinewidth\": 1, \"tickcolor\": \"rgb(36,36,36)\", \"ticks\": \"outside\"}}, \"marker\": {\"colorbar\": {\"outlinewidth\": 1, \"tickcolor\": \"rgb(36,36,36)\", \"ticks\": \"outside\"}}, \"type\": \"scatter3d\"}], \"scattercarpet\": [{\"marker\": {\"colorbar\": {\"outlinewidth\": 1, \"tickcolor\": \"rgb(36,36,36)\", \"ticks\": \"outside\"}}, \"type\": \"scattercarpet\"}], \"scattergeo\": [{\"marker\": {\"colorbar\": {\"outlinewidth\": 1, \"tickcolor\": \"rgb(36,36,36)\", \"ticks\": \"outside\"}}, \"type\": \"scattergeo\"}], \"scattergl\": [{\"marker\": {\"colorbar\": {\"outlinewidth\": 1, \"tickcolor\": \"rgb(36,36,36)\", \"ticks\": \"outside\"}}, \"type\": \"scattergl\"}], \"scattermapbox\": [{\"marker\": {\"colorbar\": {\"outlinewidth\": 1, \"tickcolor\": \"rgb(36,36,36)\", \"ticks\": \"outside\"}}, \"type\": \"scattermapbox\"}], \"scatterpolar\": [{\"marker\": {\"colorbar\": {\"outlinewidth\": 1, \"tickcolor\": \"rgb(36,36,36)\", \"ticks\": \"outside\"}}, \"type\": \"scatterpolar\"}], \"scatterpolargl\": [{\"marker\": {\"colorbar\": {\"outlinewidth\": 1, \"tickcolor\": \"rgb(36,36,36)\", \"ticks\": \"outside\"}}, \"type\": \"scatterpolargl\"}], \"scatterternary\": [{\"marker\": {\"colorbar\": {\"outlinewidth\": 1, \"tickcolor\": \"rgb(36,36,36)\", \"ticks\": \"outside\"}}, \"type\": \"scatterternary\"}], \"surface\": [{\"colorbar\": {\"outlinewidth\": 1, \"tickcolor\": \"rgb(36,36,36)\", \"ticks\": \"outside\"}, \"colorscale\": [[0.0, \"#440154\"], [0.1111111111111111, \"#482878\"], [0.2222222222222222, \"#3e4989\"], [0.3333333333333333, \"#31688e\"], [0.4444444444444444, \"#26828e\"], [0.5555555555555556, \"#1f9e89\"], [0.6666666666666666, \"#35b779\"], [0.7777777777777778, \"#6ece58\"], [0.8888888888888888, \"#b5de2b\"], [1.0, \"#fde725\"]], \"type\": \"surface\"}], \"table\": [{\"cells\": {\"fill\": {\"color\": \"rgb(237,237,237)\"}, \"line\": {\"color\": \"white\"}}, \"header\": {\"fill\": {\"color\": \"rgb(217,217,217)\"}, \"line\": {\"color\": \"white\"}}, \"type\": \"table\"}]}, \"layout\": {\"annotationdefaults\": {\"arrowhead\": 0, \"arrowwidth\": 1}, \"coloraxis\": {\"colorbar\": {\"outlinewidth\": 1, \"tickcolor\": \"rgb(36,36,36)\", \"ticks\": \"outside\"}}, \"colorscale\": {\"diverging\": [[0.0, \"rgb(103,0,31)\"], [0.1, \"rgb(178,24,43)\"], [0.2, \"rgb(214,96,77)\"], [0.3, \"rgb(244,165,130)\"], [0.4, \"rgb(253,219,199)\"], [0.5, \"rgb(247,247,247)\"], [0.6, \"rgb(209,229,240)\"], [0.7, \"rgb(146,197,222)\"], [0.8, \"rgb(67,147,195)\"], [0.9, \"rgb(33,102,172)\"], [1.0, \"rgb(5,48,97)\"]], \"sequential\": [[0.0, \"#440154\"], [0.1111111111111111, \"#482878\"], [0.2222222222222222, \"#3e4989\"], [0.3333333333333333, \"#31688e\"], [0.4444444444444444, \"#26828e\"], [0.5555555555555556, \"#1f9e89\"], [0.6666666666666666, \"#35b779\"], [0.7777777777777778, \"#6ece58\"], [0.8888888888888888, \"#b5de2b\"], [1.0, \"#fde725\"]], \"sequentialminus\": [[0.0, \"#440154\"], [0.1111111111111111, \"#482878\"], [0.2222222222222222, \"#3e4989\"], [0.3333333333333333, \"#31688e\"], [0.4444444444444444, \"#26828e\"], [0.5555555555555556, \"#1f9e89\"], [0.6666666666666666, \"#35b779\"], [0.7777777777777778, \"#6ece58\"], [0.8888888888888888, \"#b5de2b\"], [1.0, \"#fde725\"]]}, \"colorway\": [\"#1F77B4\", \"#FF7F0E\", \"#2CA02C\", \"#D62728\", \"#9467BD\", \"#8C564B\", \"#E377C2\", \"#7F7F7F\", \"#BCBD22\", \"#17BECF\"], \"font\": {\"color\": \"rgb(36,36,36)\"}, \"geo\": {\"bgcolor\": \"white\", \"lakecolor\": \"white\", \"landcolor\": \"white\", \"showlakes\": true, \"showland\": true, \"subunitcolor\": \"white\"}, \"hoverlabel\": {\"align\": \"left\"}, \"hovermode\": \"closest\", \"mapbox\": {\"style\": \"light\"}, \"paper_bgcolor\": \"white\", \"plot_bgcolor\": \"white\", \"polar\": {\"angularaxis\": {\"gridcolor\": \"rgb(232,232,232)\", \"linecolor\": \"rgb(36,36,36)\", \"showgrid\": false, \"showline\": true, \"ticks\": \"outside\"}, \"bgcolor\": \"white\", \"radialaxis\": {\"gridcolor\": \"rgb(232,232,232)\", \"linecolor\": \"rgb(36,36,36)\", \"showgrid\": false, \"showline\": true, \"ticks\": \"outside\"}}, \"scene\": {\"xaxis\": {\"backgroundcolor\": \"white\", \"gridcolor\": \"rgb(232,232,232)\", \"gridwidth\": 2, \"linecolor\": \"rgb(36,36,36)\", \"showbackground\": true, \"showgrid\": false, \"showline\": true, \"ticks\": \"outside\", \"zeroline\": false, \"zerolinecolor\": \"rgb(36,36,36)\"}, \"yaxis\": {\"backgroundcolor\": \"white\", \"gridcolor\": \"rgb(232,232,232)\", \"gridwidth\": 2, \"linecolor\": \"rgb(36,36,36)\", \"showbackground\": true, \"showgrid\": false, \"showline\": true, \"ticks\": \"outside\", \"zeroline\": false, \"zerolinecolor\": \"rgb(36,36,36)\"}, \"zaxis\": {\"backgroundcolor\": \"white\", \"gridcolor\": \"rgb(232,232,232)\", \"gridwidth\": 2, \"linecolor\": \"rgb(36,36,36)\", \"showbackground\": true, \"showgrid\": false, \"showline\": true, \"ticks\": \"outside\", \"zeroline\": false, \"zerolinecolor\": \"rgb(36,36,36)\"}}, \"shapedefaults\": {\"fillcolor\": \"black\", \"line\": {\"width\": 0}, \"opacity\": 0.3}, \"ternary\": {\"aaxis\": {\"gridcolor\": \"rgb(232,232,232)\", \"linecolor\": \"rgb(36,36,36)\", \"showgrid\": false, \"showline\": true, \"ticks\": \"outside\"}, \"baxis\": {\"gridcolor\": \"rgb(232,232,232)\", \"linecolor\": \"rgb(36,36,36)\", \"showgrid\": false, \"showline\": true, \"ticks\": \"outside\"}, \"bgcolor\": \"white\", \"caxis\": {\"gridcolor\": \"rgb(232,232,232)\", \"linecolor\": \"rgb(36,36,36)\", \"showgrid\": false, \"showline\": true, \"ticks\": \"outside\"}}, \"title\": {\"x\": 0.05}, \"xaxis\": {\"automargin\": true, \"gridcolor\": \"rgb(232,232,232)\", \"linecolor\": \"rgb(36,36,36)\", \"showgrid\": false, \"showline\": true, \"ticks\": \"outside\", \"title\": {\"standoff\": 15}, \"zeroline\": false, \"zerolinecolor\": \"rgb(36,36,36)\"}, \"yaxis\": {\"automargin\": true, \"gridcolor\": \"rgb(232,232,232)\", \"linecolor\": \"rgb(36,36,36)\", \"showgrid\": false, \"showline\": true, \"ticks\": \"outside\", \"title\": {\"standoff\": 15}, \"zeroline\": false, \"zerolinecolor\": \"rgb(36,36,36)\"}}}, \"width\": 1200, \"xaxis\": {\"anchor\": \"y\", \"categoryarray\": [\"SMCL\", \"GB\", \"SE\", \"Bagging\", \"Ind.\", \"GNLC \\u03bb = 0.1\", \"GNLC \\u03bb = 0.2\", \"GNLC \\u03bb = 0.3\", \"GNLC \\u03bb = 0.4\", \"GNLC \\u03bb = 0.5\", \"GNLC \\u03bb = 0.6\", \"GNLC \\u03bb = 0.7\", \"GNLC \\u03bb = 0.8\", \"GNLC \\u03bb = 0.9\", \"E2E\"], \"domain\": [0.0, 0.3133333333333333], \"showticklabels\": false}, \"xaxis10\": {\"anchor\": \"y10\", \"categoryarray\": [\"SMCL\", \"GB\", \"SE\", \"Bagging\", \"Ind.\", \"GNLC \\u03bb = 0.1\", \"GNLC \\u03bb = 0.2\", \"GNLC \\u03bb = 0.3\", \"GNLC \\u03bb = 0.4\", \"GNLC \\u03bb = 0.5\", \"GNLC \\u03bb = 0.6\", \"GNLC \\u03bb = 0.7\", \"GNLC \\u03bb = 0.8\", \"GNLC \\u03bb = 0.9\", \"E2E\"], \"domain\": [0.0, 0.3133333333333333], \"tickangle\": 45}, \"xaxis11\": {\"anchor\": \"y11\", \"categoryarray\": [\"SMCL\", \"GB\", \"SE\", \"Bagging\", \"Ind.\", \"GNLC \\u03bb = 0.1\", \"GNLC \\u03bb = 0.2\", \"GNLC \\u03bb = 0.3\", \"GNLC \\u03bb = 0.4\", \"GNLC \\u03bb = 0.5\", \"GNLC \\u03bb = 0.6\", \"GNLC \\u03bb = 0.7\", \"GNLC \\u03bb = 0.8\", \"GNLC \\u03bb = 0.9\", \"E2E\"], \"domain\": [0.34333333333333327, 0.6566666666666665], \"tickangle\": 45}, \"xaxis12\": {\"anchor\": \"y12\", \"categoryarray\": [\"SMCL\", \"GB\", \"SE\", \"Bagging\", \"Ind.\", \"GNLC \\u03bb = 0.1\", \"GNLC \\u03bb = 0.2\", \"GNLC \\u03bb = 0.3\", \"GNLC \\u03bb = 0.4\", \"GNLC \\u03bb = 0.5\", \"GNLC \\u03bb = 0.6\", \"GNLC \\u03bb = 0.7\", \"GNLC \\u03bb = 0.8\", \"GNLC \\u03bb = 0.9\", \"E2E\"], \"domain\": [0.6866666666666665, 0.9999999999999998], \"tickangle\": 45}, \"xaxis2\": {\"anchor\": \"y2\", \"categoryarray\": [\"SMCL\", \"GB\", \"SE\", \"Bagging\", \"Ind.\", \"GNLC \\u03bb = 0.1\", \"GNLC \\u03bb = 0.2\", \"GNLC \\u03bb = 0.3\", \"GNLC \\u03bb = 0.4\", \"GNLC \\u03bb = 0.5\", \"GNLC \\u03bb = 0.6\", \"GNLC \\u03bb = 0.7\", \"GNLC \\u03bb = 0.8\", \"GNLC \\u03bb = 0.9\", \"E2E\"], \"domain\": [0.34333333333333327, 0.6566666666666665], \"showticklabels\": false}, \"xaxis3\": {\"anchor\": \"y3\", \"categoryarray\": [\"SMCL\", \"GB\", \"SE\", \"Bagging\", \"Ind.\", \"GNLC \\u03bb = 0.1\", \"GNLC \\u03bb = 0.2\", \"GNLC \\u03bb = 0.3\", \"GNLC \\u03bb = 0.4\", \"GNLC \\u03bb = 0.5\", \"GNLC \\u03bb = 0.6\", \"GNLC \\u03bb = 0.7\", \"GNLC \\u03bb = 0.8\", \"GNLC \\u03bb = 0.9\", \"E2E\"], \"domain\": [0.6866666666666665, 0.9999999999999998], \"showticklabels\": false}, \"xaxis4\": {\"anchor\": \"y4\", \"categoryarray\": [\"SMCL\", \"GB\", \"SE\", \"Bagging\", \"Ind.\", \"GNLC \\u03bb = 0.1\", \"GNLC \\u03bb = 0.2\", \"GNLC \\u03bb = 0.3\", \"GNLC \\u03bb = 0.4\", \"GNLC \\u03bb = 0.5\", \"GNLC \\u03bb = 0.6\", \"GNLC \\u03bb = 0.7\", \"GNLC \\u03bb = 0.8\", \"GNLC \\u03bb = 0.9\", \"E2E\"], \"domain\": [0.0, 0.3133333333333333], \"showticklabels\": false}, \"xaxis5\": {\"anchor\": \"y5\", \"categoryarray\": [\"SMCL\", \"GB\", \"SE\", \"Bagging\", \"Ind.\", \"GNLC \\u03bb = 0.1\", \"GNLC \\u03bb = 0.2\", \"GNLC \\u03bb = 0.3\", \"GNLC \\u03bb = 0.4\", \"GNLC \\u03bb = 0.5\", \"GNLC \\u03bb = 0.6\", \"GNLC \\u03bb = 0.7\", \"GNLC \\u03bb = 0.8\", \"GNLC \\u03bb = 0.9\", \"E2E\"], \"domain\": [0.34333333333333327, 0.6566666666666665], \"showticklabels\": false}, \"xaxis6\": {\"anchor\": \"y6\", \"categoryarray\": [\"SMCL\", \"GB\", \"SE\", \"Bagging\", \"Ind.\", \"GNLC \\u03bb = 0.1\", \"GNLC \\u03bb = 0.2\", \"GNLC \\u03bb = 0.3\", \"GNLC \\u03bb = 0.4\", \"GNLC \\u03bb = 0.5\", \"GNLC \\u03bb = 0.6\", \"GNLC \\u03bb = 0.7\", \"GNLC \\u03bb = 0.8\", \"GNLC \\u03bb = 0.9\", \"E2E\"], \"domain\": [0.6866666666666665, 0.9999999999999998], \"showticklabels\": false}, \"xaxis7\": {\"anchor\": \"y7\", \"categoryarray\": [\"SMCL\", \"GB\", \"SE\", \"Bagging\", \"Ind.\", \"GNLC \\u03bb = 0.1\", \"GNLC \\u03bb = 0.2\", \"GNLC \\u03bb = 0.3\", \"GNLC \\u03bb = 0.4\", \"GNLC \\u03bb = 0.5\", \"GNLC \\u03bb = 0.6\", \"GNLC \\u03bb = 0.7\", \"GNLC \\u03bb = 0.8\", \"GNLC \\u03bb = 0.9\", \"E2E\"], \"domain\": [0.0, 0.3133333333333333], \"showticklabels\": false}, \"xaxis8\": {\"anchor\": \"y8\", \"categoryarray\": [\"SMCL\", \"GB\", \"SE\", \"Bagging\", \"Ind.\", \"GNLC \\u03bb = 0.1\", \"GNLC \\u03bb = 0.2\", \"GNLC \\u03bb = 0.3\", \"GNLC \\u03bb = 0.4\", \"GNLC \\u03bb = 0.5\", \"GNLC \\u03bb = 0.6\", \"GNLC \\u03bb = 0.7\", \"GNLC \\u03bb = 0.8\", \"GNLC \\u03bb = 0.9\", \"E2E\"], \"domain\": [0.34333333333333327, 0.6566666666666665], \"showticklabels\": false}, \"xaxis9\": {\"anchor\": \"y9\", \"categoryarray\": [\"SMCL\", \"GB\", \"SE\", \"Bagging\", \"Ind.\", \"GNLC \\u03bb = 0.1\", \"GNLC \\u03bb = 0.2\", \"GNLC \\u03bb = 0.3\", \"GNLC \\u03bb = 0.4\", \"GNLC \\u03bb = 0.5\", \"GNLC \\u03bb = 0.6\", \"GNLC \\u03bb = 0.7\", \"GNLC \\u03bb = 0.8\", \"GNLC \\u03bb = 0.9\", \"E2E\"], \"domain\": [0.6866666666666665, 0.9999999999999998], \"showticklabels\": false}, \"yaxis\": {\"anchor\": \"x\", \"domain\": [0.7649999999999999, 0.9999999999999999], \"dtick\": 10, \"tick0\": 0, \"tickmode\": \"linear\", \"title\": {\"font\": {\"size\": 14}, \"standoff\": 25, \"text\": \"Accuracy\"}}, \"yaxis10\": {\"anchor\": \"x10\", \"domain\": [0.0, 0.235], \"title\": {\"font\": {\"size\": 14}, \"text\": \"Train loss\"}, \"type\": \"log\"}, \"yaxis11\": {\"anchor\": \"x11\", \"domain\": [0.0, 0.235], \"type\": \"log\"}, \"yaxis12\": {\"anchor\": \"x12\", \"domain\": [0.0, 0.235], \"type\": \"log\"}, \"yaxis2\": {\"anchor\": \"x2\", \"domain\": [0.7649999999999999, 0.9999999999999999], \"dtick\": 10, \"tick0\": 0, \"tickmode\": \"linear\"}, \"yaxis3\": {\"anchor\": \"x3\", \"domain\": [0.7649999999999999, 0.9999999999999999], \"dtick\": 10, \"tick0\": 0, \"tickmode\": \"linear\"}, \"yaxis4\": {\"anchor\": \"x4\", \"domain\": [0.51, 0.745], \"title\": {\"font\": {\"size\": 14}, \"text\": \"Diversity\"}, \"type\": \"log\"}, \"yaxis5\": {\"anchor\": \"x5\", \"domain\": [0.51, 0.745], \"type\": \"log\"}, \"yaxis6\": {\"anchor\": \"x6\", \"domain\": [0.51, 0.745], \"type\": \"log\"}, \"yaxis7\": {\"anchor\": \"x7\", \"domain\": [0.255, 0.49], \"dtick\": 10, \"tick0\": 0, \"tickmode\": \"linear\", \"title\": {\"font\": {\"size\": 14}, \"text\": \"Average accuracy\"}}, \"yaxis8\": {\"anchor\": \"x8\", \"domain\": [0.255, 0.49], \"dtick\": 10, \"tick0\": 0, \"tickmode\": \"linear\"}, \"yaxis9\": {\"anchor\": \"x9\", \"domain\": [0.255, 0.49], \"dtick\": 10, \"tick0\": 0, \"tickmode\": \"linear\"}},\n                        {\"responsive\": true}\n                    ).then(function(){\n                            \nvar gd = document.getElementById('056e8728-1002-4104-94c6-d891faef4608');\nvar x = new MutationObserver(function (mutations, observer) {{\n        var display = window.getComputedStyle(gd).display;\n        if (!display || display === 'none') {{\n            console.log([gd, 'removed!']);\n            Plotly.purge(gd);\n            observer.disconnect();\n        }}\n}});\n\n// Listen for the removal of the full notebook cells\nvar notebookContainer = gd.closest('#notebook-container');\nif (notebookContainer) {{\n    x.observe(notebookContainer, {childList: true});\n}}\n\n// Listen for the clearing of the current output cell\nvar outputEl = gd.closest('.output');\nif (outputEl) {{\n    x.observe(outputEl, {childList: true});\n}}\n\n                        })\n                };\n                });\n            </script>\n        </div>"
     },
     "metadata": {}
    }
   ],
   "source": [
    "import numpy as np\n",
    "from plotly.subplots import make_subplots\n",
    "import plotly.graph_objects as go\n",
    "import plotly.io as pio\n",
    "\n",
    "fig = make_subplots(rows=4, cols=3, subplot_titles=[\"Small Binary\", \"Small Float\", \"Large Float\"], horizontal_spacing = 0.03, vertical_spacing = 0.02)\n",
    "    \n",
    "methods_order = [\"SMCL\", \"GB\", \"SE\", \"Bagging\", \"Ind.\", \"GNLC λ = 0.1\", \"GNLC λ = 0.2\", \"GNLC λ = 0.3\", \"GNLC λ = 0.4\" ,\"GNLC λ = 0.5\", \"GNLC λ = 0.6\", \"GNLC λ = 0.7\", \"GNLC λ = 0.8\", \"GNLC λ = 0.9\", \"E2E\"]\n",
    "\n",
    "model_types = [\"simpleresnet small binary\", \"simpleresnet small float\", \"simpleresnet large float\"]\n",
    "#model_types = [\"mobilenetv3 small binary\", \"mobilenetv3 small float\", \"mobilenetv3 large float\"]\n",
    "\n",
    "shapes = []\n",
    "for i, mtype in enumerate(model_types):\n",
    "    filteredDF = df.loc[ df[\"model_type\"] == mtype ]\n",
    "    dff = filteredDF.loc[ (filteredDF[\"n_estimators\"] == 16)]\n",
    "    \n",
    "    accuracy_single = filteredDF.loc[filteredDF[\"n_estimators\"].isnull()][\"scores.mean_test_accuracy\"].to_numpy()[0]\n",
    "    trainloss_single = filteredDF.loc[filteredDF[\"n_estimators\"].isnull()][\"scores.mean_train_loss\"].to_numpy()[0]\n",
    "    \n",
    "    fig.add_trace(go.Bar(x = dff[\"nice_name\"], y = dff[\"scores.mean_test_accuracy\"], texttemplate='%{text:.2f}', textposition='inside', text=dff[\"scores.mean_test_accuracy\"], showlegend=False, marker_color=\"#636EFA\", textfont_size=14, textangle=0),row=1,col=i+1)\n",
    "    fig.add_trace(go.Bar(x = dff[\"nice_name\"], y = dff[\"scores.mean_test_diversity\"], texttemplate='%{text:.2f}', textposition='inside', text=dff[\"scores.mean_test_diversity\"], showlegend=False, marker_color=\"#636EFA\", textfont_size=14, textangle=0),row=2,col=i+1)\n",
    "    fig.add_trace(go.Bar(x = dff[\"nice_name\"], y = dff[\"scores.mean_test_avg_accurcay\"], texttemplate='%{text:.2f}', textposition='inside', text=dff[\"scores.mean_test_avg_accurcay\"], showlegend=False, marker_color=\"#636EFA\", textfont_size=14, textangle=0),row=3,col=i+1)\n",
    "    fig.add_trace(go.Bar(x = dff[\"nice_name\"], y = dff[\"scores.mean_train_loss\"], texttemplate='%{text:.2f}', textposition='inside', text=dff[\"scores.mean_train_loss\"], showlegend=False, marker_color=\"#636EFA\", textfont_size=14, textangle=0),row=4,col=i+1)\n",
    "    \n",
    "    fig.update_yaxes(row=1, col=i+1, dtick=10, tickmode = 'linear',tick0 = 0)\n",
    "    fig.update_yaxes(row=2, col=i+1, type=\"log\")\n",
    "    fig.update_yaxes(row=3, col=i+1, dtick=10, tickmode = 'linear',tick0 = 0)\n",
    "    fig.update_yaxes(row=4, col=i+1, type=\"log\")\n",
    "        \n",
    "    fig.update_xaxes(row=1, col=i+1, categoryarray=methods_order, showticklabels=False)\n",
    "    fig.update_xaxes(row=2, col=i+1, categoryarray=methods_order, showticklabels=False)\n",
    "    fig.update_xaxes(row=3, col=i+1, categoryarray=methods_order, showticklabels=False)\n",
    "    fig.update_xaxes(row=4, col=i+1, categoryarray=methods_order, tickangle=45)\n",
    "    \n",
    "    shapes.extend([\n",
    "        dict(\n",
    "            type='line',xref='x'+str(i+1),yref='y'+str(i+1),x0=-0.5,y0=accuracy_single,x1=len(methods_order)+0.5,y1=accuracy_single,\n",
    "            line=dict(color='Dark Grey',width=1,dash=\"dashdot\")\n",
    "        ),\n",
    "        dict(\n",
    "            type='line',xref='x'+str(i+10),yref='y'+str(i+10),x0=-0.5,y0=trainloss_single,x1=len(methods_order)+0.5,y1=trainloss_single,\n",
    "            line=dict(color='Dark Grey',width=1,dash=\"dashdot\")\n",
    "        )\n",
    "    ])\n",
    "    \n",
    "\n",
    "fig.update_yaxes(title_text=\"Accuracy\", row=1, col=1, title_standoff = 25, title_font = {\"size\": 14})\n",
    "fig.update_yaxes(title_text=\"Diversity\", row=2, col=1, title_font = {\"size\": 14})\n",
    "fig.update_yaxes(title_text=\"Average accuracy\", row=3, col=1, title_font = {\"size\": 14})\n",
    "fig.update_yaxes(title_text=\"Train loss\", row=4, col=1, title_font = {\"size\": 14})\n",
    "\n",
    "\n",
    "fig.update_layout(\n",
    "    template=\"simple_white\",\n",
    "    shapes=shapes,\n",
    "    legend=dict(orientation=\"h\",yanchor=\"bottom\",y=-0.1,xanchor=\"left\",x=0.1),\n",
    "    margin={'l': 5, 'r': 20, 't': 20, 'b': 5},\n",
    "    height=700, width=1200\n",
    ")\n",
    "\n",
    "fig.write_image(\"images/{}.pdf\".format(dataset))\n",
    "fig.show()\n"
   ]
  }
 ]
}